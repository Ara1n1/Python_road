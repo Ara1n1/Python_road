{
 "cells": [
  {
   "cell_type": "code",
   "execution_count": 29,
   "metadata": {},
   "outputs": [],
   "source": [
    "# http://125.35.6.84:81/xk\n",
    "import requests\n",
    "headers = {'User-Agent': 'Mozilla/5.0 (Macintosh; Intel Mac OS X 10_15_0) AppleWebKit/537.36 (KHTML, like Gecko) Chrome/76.0.3809.100 Safari/537.36'}\n"
   ]
  },
  {
   "cell_type": "code",
   "execution_count": 37,
   "metadata": {},
   "outputs": [
    {
     "name": "stdout",
     "output_type": "stream",
     "text": [
      "enter the num of pages: 15\n"
     ]
    }
   ],
   "source": [
    "url = 'http://125.35.6.84:81/xk/itownet/portalAction.do?method=getXkzsList'\n",
    "page = input('enter the num of pages: ')\n",
    "info = open('enterprise.txt', 'w', encoding='utf-8')\n",
    "for page in range(int(page)):\n",
    "    page += 1\n",
    "    data = {\n",
    "        'on':'true',\n",
    "        'page':page,\n",
    "        'pageSize': '15',\n",
    "        'productName': '',\n",
    "        'conditionType': '1',\n",
    "        'applyname': '',\n",
    "        'applysn': '',\n",
    "    }\n",
    "\n",
    "    res_dict = requests.post(url=url, data=data, headers=headers).json()\n",
    "\n",
    "    \n",
    "    for com in res_dict.get('list'):\n",
    "        _id = com.get('ID')\n",
    "\n",
    "        url_detail = 'http://125.35.6.84:81/xk/itownet/portalAction.do?method=getXkzsById'\n",
    "        post_data = {\n",
    "            'id': _id,\n",
    "        }\n",
    "        res_detail = requests.post(url=url_detail, data=post_data, headers=headers).json()\n",
    "        info.write(f\"title:{res_detail.get('epsName')}    addr:{res_detail.get('epsAddress')}    'ManagerName':{res_detail.get('qfManagerName')} \\n\")\n",
    "info.close()\n"
   ]
  },
  {
   "cell_type": "code",
   "execution_count": null,
   "metadata": {},
   "outputs": [],
   "source": []
  }
 ],
 "metadata": {
  "kernelspec": {
   "display_name": "Python 3",
   "language": "python",
   "name": "python3"
  },
  "language_info": {
   "codemirror_mode": {
    "name": "ipython",
    "version": 3
   },
   "file_extension": ".py",
   "mimetype": "text/x-python",
   "name": "python",
   "nbconvert_exporter": "python",
   "pygments_lexer": "ipython3",
   "version": "3.7.3"
  }
 },
 "nbformat": 4,
 "nbformat_minor": 2
}
