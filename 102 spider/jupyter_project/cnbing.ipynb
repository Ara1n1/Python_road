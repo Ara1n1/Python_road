{
 "cells": [
  {
   "cell_type": "code",
   "execution_count": 2,
   "metadata": {},
   "outputs": [],
   "source": [
    "import requests"
   ]
  },
  {
   "cell_type": "code",
   "execution_count": 3,
   "metadata": {},
   "outputs": [
    {
     "name": "stdout",
     "output_type": "stream",
     "text": [
      "输入查询关键字：周杰伦\n",
      "周杰伦 查询成功\n"
     ]
    }
   ],
   "source": [
    "query = input('输入查询关键字：')\n",
    "url = 'https://www.baidu.com/s'\n",
    "params = {\n",
    "    'ie':'utf-8',\n",
    "    'f': '8',\n",
    "    'rsv_bp': '1',\n",
    "    'rsv_idx': '1',\n",
    "    'tn': 'baidu',\n",
    "    'wd': query,\n",
    "    'rsv_pq': 'a0913ec90002dd9f',\n",
    "    'rsv_t': 'be38mM8YSN2A/Pojrq9mOF4VQwFLO/FiY0mYduUGCXrTankz7/KFoQJFjlg',\n",
    "    'rqlang': 'cn',\n",
    "    'rsv_enter': '1',\n",
    "    'rsv_dl': 'ib',\n",
    "    'rsv_sug3': '7',\n",
    "    'rsv_sug1': '9',\n",
    "    'rsv_sug7': '100',\n",
    "}\n",
    "headers = {'User-Agent':'Mozilla/5.0 (Macintosh; Intel Mac OS X 10_15_0) AppleWebKit/537.36 (KHTML, like Gecko) Chrome/76.0.3809.100 Safari/537.36'}\n",
    "res = requests.get(url,params=params, headers=headers)\n",
    "res.encoding = 'utf8'\n",
    "with open(f'{query}.html', 'w', encoding='utf8') as f:\n",
    "    f.write(res.text)\n",
    "print(query,'查询成功')\n"
   ]
  },
  {
   "cell_type": "code",
   "execution_count": 32,
   "metadata": {},
   "outputs": [
    {
     "name": "stdout",
     "output_type": "stream",
     "text": [
      "enter start num:0\n",
      "enter limit num:10\n",
      "下载成功\n"
     ]
    }
   ],
   "source": [
    "url = 'https://movie.douban.com/j/new_search_subjects'\n",
    "start = input('enter start num:')\n",
    "end = input('enter limit num:')\n",
    "params = {\n",
    "    'sort': 'U',\n",
    "    'range': f'{start}, {end}',\n",
    "    'tags':'', \n",
    "    'start': '20',\n",
    "    'genres': '喜剧'\n",
    "}\n",
    "res = requests.get(url=url, params=params, headers=headers)\n",
    "res.encoding = 'utf-8'\n",
    "\n",
    "with open('douban.txt', 'w',  encoding='utf-8') as f:\n",
    "    f.write(res.text)\n",
    "print('下载成功')"
   ]
  },
  {
   "cell_type": "code",
   "execution_count": 44,
   "metadata": {},
   "outputs": [
    {
     "name": "stdout",
     "output_type": "stream",
     "text": [
      "0 爬取成功\n",
      "1 爬取成功\n",
      "2 爬取成功\n",
      "3 爬取成功\n",
      "4 爬取成功\n",
      "5 爬取成功\n",
      "6 爬取成功\n",
      "7 爬取成功\n",
      "8 爬取成功\n",
      "9 爬取成功\n"
     ]
    }
   ],
   "source": [
    "url = 'https://read.douban.com/j/kind/'\n",
    "\n",
    "f = open('books.txt', 'w', encoding='utf-8')\n",
    "for page in range(10):\n",
    "    params = {\n",
    "        'kind': '100',\n",
    "        'page': page,\n",
    "        'query': \"↵    query getFilterWorksList($works_ids: [ID!]) {↵      worksList(worksIds: $works_ids) {↵        ↵    ↵    title↵    cover↵    url↵    isBundle↵  ↵    ↵    url↵    title↵  ↵    ↵    author {↵      name↵      url↵    }↵    origAuthor {↵      name↵      url↵    }↵    translator {↵      name↵      url↵    }↵  ↵    ↵    abstract↵    editorHighlight↵  ↵    ↵    isOrigin↵    kinds {↵      ↵    name @skip(if: true)↵    shortName @include(if: true)↵    id↵  ↵    }↵    ... on WorksBase @include(if: true) {↵      wordCount↵      wordCountUnit↵    }↵    ... on WorksBase @include(if: true) {↵      ↵    isEssay↵    ↵    ... on EssayWorks {↵      favorCount↵    }↵  ↵    ↵    isNew↵    ↵    averageRating↵    ratingCount↵    url↵  ↵  ↵  ↵    }↵    ... on WorksBase @include(if: false) {↵      isColumn↵      isEssay↵      onSaleTime↵      ... on ColumnWorks {↵        updateTime↵      }↵    }↵    ... on WorksBase @include(if: true) {↵      isColumn↵      ... on ColumnWorks {↵        isFinished↵      }↵    }↵    ... on EssayWorks {↵      essayActivityData {↵        ↵    title↵    uri↵    tag {↵      name↵      color↵      background↵      icon2x↵      icon3x↵      iconSize {↵        height↵      }↵      iconPosition {↵        x y↵      }↵    }↵  ↵      }↵    }↵    highlightTags {↵      name↵    }↵  ↵    ... on WorksBase @include(if: false) {↵      ↵    fixedPrice↵    salesPrice↵    isRebate↵  ↵    }↵    ... on EbookWorks {↵      ↵    fixedPrice↵    salesPrice↵    isRebate↵  ↵    }↵    ... on WorksBase @include(if: true) {↵      ... on EbookWorks {↵        id↵        isPurchased↵        isInWishlist↵      }↵    }↵  ↵        id↵        isOrigin↵      }↵    }↵  \",\n",
    "        'sort': \"hot\",\n",
    "        'variables': '{}',\n",
    "    }\n",
    "    res = requests.get(url, params=params, headers=headers)\n",
    "    res.json()\n",
    "    res.text\n",
    "    f.write(res.text)\n",
    "    f.flush()\n",
    "    print(page, '爬取成功')\n",
    "f.close()"
   ]
  },
  {
   "cell_type": "code",
   "execution_count": 45,
   "metadata": {},
   "outputs": [],
   "source": [
    "\n"
   ]
  },
  {
   "cell_type": "code",
   "execution_count": null,
   "metadata": {},
   "outputs": [],
   "source": []
  }
 ],
 "metadata": {
  "kernelspec": {
   "display_name": "Python 3",
   "language": "python",
   "name": "python3"
  },
  "language_info": {
   "codemirror_mode": {
    "name": "ipython",
    "version": 3
   },
   "file_extension": ".py",
   "mimetype": "text/x-python",
   "name": "python",
   "nbconvert_exporter": "python",
   "pygments_lexer": "ipython3",
   "version": "3.7.3"
  }
 },
 "nbformat": 4,
 "nbformat_minor": 2
}
