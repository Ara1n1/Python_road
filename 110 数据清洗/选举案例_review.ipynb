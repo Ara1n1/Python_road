{
 "cells": [
  {
   "cell_type": "code",
   "execution_count": 1,
   "metadata": {},
   "outputs": [],
   "source": [
    "import numpy as np\n",
    "import pandas as pd\n",
    "from pandas import Series, DataFrame"
   ]
  },
  {
   "cell_type": "code",
   "execution_count": 8,
   "metadata": {},
   "outputs": [],
   "source": [
    "usa_election = pd.read_csv('./data/usa_election.txt')"
   ]
  },
  {
   "cell_type": "code",
   "execution_count": 11,
   "metadata": {},
   "outputs": [
    {
     "data": {
      "text/html": [
       "<div>\n",
       "<style scoped>\n",
       "    .dataframe tbody tr th:only-of-type {\n",
       "        vertical-align: middle;\n",
       "    }\n",
       "\n",
       "    .dataframe tbody tr th {\n",
       "        vertical-align: top;\n",
       "    }\n",
       "\n",
       "    .dataframe thead th {\n",
       "        text-align: right;\n",
       "    }\n",
       "</style>\n",
       "<table border=\"1\" class=\"dataframe\">\n",
       "  <thead>\n",
       "    <tr style=\"text-align: right;\">\n",
       "      <th></th>\n",
       "      <th>cmte_id</th>\n",
       "      <th>cand_id</th>\n",
       "      <th>cand_nm</th>\n",
       "      <th>contbr_nm</th>\n",
       "      <th>contbr_city</th>\n",
       "      <th>contbr_st</th>\n",
       "      <th>contbr_zip</th>\n",
       "      <th>contbr_employer</th>\n",
       "      <th>contbr_occupation</th>\n",
       "      <th>contb_receipt_amt</th>\n",
       "      <th>contb_receipt_dt</th>\n",
       "      <th>receipt_desc</th>\n",
       "      <th>memo_cd</th>\n",
       "      <th>memo_text</th>\n",
       "      <th>form_tp</th>\n",
       "      <th>file_num</th>\n",
       "    </tr>\n",
       "  </thead>\n",
       "  <tbody>\n",
       "    <tr>\n",
       "      <td>0</td>\n",
       "      <td>C00410118</td>\n",
       "      <td>P20002978</td>\n",
       "      <td>Bachmann, Michelle</td>\n",
       "      <td>HARVEY, WILLIAM</td>\n",
       "      <td>MOBILE</td>\n",
       "      <td>AL</td>\n",
       "      <td>3.6601e+08</td>\n",
       "      <td>RETIRED</td>\n",
       "      <td>RETIRED</td>\n",
       "      <td>250.0</td>\n",
       "      <td>20-JUN-11</td>\n",
       "      <td>NaN</td>\n",
       "      <td>NaN</td>\n",
       "      <td>NaN</td>\n",
       "      <td>SA17A</td>\n",
       "      <td>736166</td>\n",
       "    </tr>\n",
       "    <tr>\n",
       "      <td>1</td>\n",
       "      <td>C00410118</td>\n",
       "      <td>P20002978</td>\n",
       "      <td>Bachmann, Michelle</td>\n",
       "      <td>HARVEY, WILLIAM</td>\n",
       "      <td>MOBILE</td>\n",
       "      <td>AL</td>\n",
       "      <td>3.6601e+08</td>\n",
       "      <td>RETIRED</td>\n",
       "      <td>RETIRED</td>\n",
       "      <td>50.0</td>\n",
       "      <td>23-JUN-11</td>\n",
       "      <td>NaN</td>\n",
       "      <td>NaN</td>\n",
       "      <td>NaN</td>\n",
       "      <td>SA17A</td>\n",
       "      <td>736166</td>\n",
       "    </tr>\n",
       "  </tbody>\n",
       "</table>\n",
       "</div>"
      ],
      "text/plain": [
       "     cmte_id    cand_id             cand_nm        contbr_nm contbr_city  \\\n",
       "0  C00410118  P20002978  Bachmann, Michelle  HARVEY, WILLIAM      MOBILE   \n",
       "1  C00410118  P20002978  Bachmann, Michelle  HARVEY, WILLIAM      MOBILE   \n",
       "\n",
       "  contbr_st  contbr_zip contbr_employer contbr_occupation  contb_receipt_amt  \\\n",
       "0        AL  3.6601e+08         RETIRED           RETIRED              250.0   \n",
       "1        AL  3.6601e+08         RETIRED           RETIRED               50.0   \n",
       "\n",
       "  contb_receipt_dt receipt_desc memo_cd memo_text form_tp  file_num  \n",
       "0        20-JUN-11          NaN     NaN       NaN   SA17A    736166  \n",
       "1        23-JUN-11          NaN     NaN       NaN   SA17A    736166  "
      ]
     },
     "execution_count": 11,
     "metadata": {},
     "output_type": "execute_result"
    }
   ],
   "source": [
    "usa_election.head(2)"
   ]
  },
  {
   "cell_type": "code",
   "execution_count": 13,
   "metadata": {},
   "outputs": [],
   "source": [
    "months = {'JAN' : 1, 'FEB' : 2, 'MAR' : 3, 'APR' : 4, 'MAY' : 5, 'JUN' : 6,\n",
    "          'JUL' : 7, 'AUG' : 8, 'SEP' : 9, 'OCT': 10, 'NOV': 11, 'DEC' : 12}\n",
    "of_interest = ['Obama, Barack', 'Romney, Mitt', 'Santorum, Rick', \n",
    "               'Paul, Ron', 'Gingrich, Newt']\n",
    "parties = {\n",
    "  'Bachmann, Michelle': 'Republican',\n",
    "  'Romney, Mitt': 'Republican',\n",
    "  'Obama, Barack': 'Democrat',\n",
    "  \"Roemer, Charles E. 'Buddy' III\": 'Reform',\n",
    "  'Pawlenty, Timothy': 'Republican',\n",
    "  'Johnson, Gary Earl': 'Libertarian',\n",
    "  'Paul, Ron': 'Republican',\n",
    "  'Santorum, Rick': 'Republican',\n",
    "  'Cain, Herman': 'Republican',\n",
    "  'Gingrich, Newt': 'Republican',\n",
    "  'McCotter, Thaddeus G': 'Republican',\n",
    "  'Huntsman, Jon': 'Republican',\n",
    "  'Perry, Rick': 'Republican'           \n",
    " }"
   ]
  },
  {
   "cell_type": "code",
   "execution_count": 23,
   "metadata": {},
   "outputs": [
    {
     "data": {
      "text/html": [
       "<div>\n",
       "<style scoped>\n",
       "    .dataframe tbody tr th:only-of-type {\n",
       "        vertical-align: middle;\n",
       "    }\n",
       "\n",
       "    .dataframe tbody tr th {\n",
       "        vertical-align: top;\n",
       "    }\n",
       "\n",
       "    .dataframe thead th {\n",
       "        text-align: right;\n",
       "    }\n",
       "</style>\n",
       "<table border=\"1\" class=\"dataframe\">\n",
       "  <thead>\n",
       "    <tr style=\"text-align: right;\">\n",
       "      <th></th>\n",
       "      <th>cmte_id</th>\n",
       "      <th>cand_id</th>\n",
       "      <th>cand_nm</th>\n",
       "      <th>contbr_nm</th>\n",
       "      <th>contbr_city</th>\n",
       "      <th>contbr_st</th>\n",
       "      <th>contbr_zip</th>\n",
       "      <th>contbr_employer</th>\n",
       "      <th>contbr_occupation</th>\n",
       "      <th>contb_receipt_amt</th>\n",
       "      <th>contb_receipt_dt</th>\n",
       "      <th>receipt_desc</th>\n",
       "      <th>memo_cd</th>\n",
       "      <th>memo_text</th>\n",
       "      <th>form_tp</th>\n",
       "      <th>file_num</th>\n",
       "      <th>parties</th>\n",
       "    </tr>\n",
       "  </thead>\n",
       "  <tbody>\n",
       "    <tr>\n",
       "      <td>0</td>\n",
       "      <td>C00410118</td>\n",
       "      <td>P20002978</td>\n",
       "      <td>Bachmann, Michelle</td>\n",
       "      <td>HARVEY, WILLIAM</td>\n",
       "      <td>MOBILE</td>\n",
       "      <td>AL</td>\n",
       "      <td>3.6601e+08</td>\n",
       "      <td>RETIRED</td>\n",
       "      <td>RETIRED</td>\n",
       "      <td>250.0</td>\n",
       "      <td>20-JUN-11</td>\n",
       "      <td>NaN</td>\n",
       "      <td>NaN</td>\n",
       "      <td>NaN</td>\n",
       "      <td>SA17A</td>\n",
       "      <td>736166</td>\n",
       "      <td>Republican</td>\n",
       "    </tr>\n",
       "    <tr>\n",
       "      <td>1</td>\n",
       "      <td>C00410118</td>\n",
       "      <td>P20002978</td>\n",
       "      <td>Bachmann, Michelle</td>\n",
       "      <td>HARVEY, WILLIAM</td>\n",
       "      <td>MOBILE</td>\n",
       "      <td>AL</td>\n",
       "      <td>3.6601e+08</td>\n",
       "      <td>RETIRED</td>\n",
       "      <td>RETIRED</td>\n",
       "      <td>50.0</td>\n",
       "      <td>23-JUN-11</td>\n",
       "      <td>NaN</td>\n",
       "      <td>NaN</td>\n",
       "      <td>NaN</td>\n",
       "      <td>SA17A</td>\n",
       "      <td>736166</td>\n",
       "      <td>Republican</td>\n",
       "    </tr>\n",
       "  </tbody>\n",
       "</table>\n",
       "</div>"
      ],
      "text/plain": [
       "     cmte_id    cand_id             cand_nm        contbr_nm contbr_city  \\\n",
       "0  C00410118  P20002978  Bachmann, Michelle  HARVEY, WILLIAM      MOBILE   \n",
       "1  C00410118  P20002978  Bachmann, Michelle  HARVEY, WILLIAM      MOBILE   \n",
       "\n",
       "  contbr_st  contbr_zip contbr_employer contbr_occupation  contb_receipt_amt  \\\n",
       "0        AL  3.6601e+08         RETIRED           RETIRED              250.0   \n",
       "1        AL  3.6601e+08         RETIRED           RETIRED               50.0   \n",
       "\n",
       "  contb_receipt_dt receipt_desc memo_cd memo_text form_tp  file_num  \\\n",
       "0        20-JUN-11          NaN     NaN       NaN   SA17A    736166   \n",
       "1        23-JUN-11          NaN     NaN       NaN   SA17A    736166   \n",
       "\n",
       "      parties  \n",
       "0  Republican  \n",
       "1  Republican  "
      ]
     },
     "execution_count": 23,
     "metadata": {},
     "output_type": "execute_result"
    }
   ],
   "source": [
    "usa_election['parties'] =  usa_election['cand_nm'].map(parties)\n",
    "usa_election.head(2)"
   ]
  },
  {
   "cell_type": "code",
   "execution_count": 31,
   "metadata": {},
   "outputs": [
    {
     "data": {
      "text/plain": [
       "array(['Republican', 'Democrat', 'Reform', 'Libertarian'], dtype=object)"
      ]
     },
     "execution_count": 31,
     "metadata": {},
     "output_type": "execute_result"
    }
   ],
   "source": [
    "usa_election.parties.unique()"
   ]
  },
  {
   "cell_type": "code",
   "execution_count": 33,
   "metadata": {},
   "outputs": [
    {
     "data": {
      "text/plain": [
       "Democrat       292400\n",
       "Republican     237575\n",
       "Reform           5364\n",
       "Libertarian       702\n",
       "Name: cand_nm, dtype: int64"
      ]
     },
     "execution_count": 33,
     "metadata": {},
     "output_type": "execute_result"
    }
   ],
   "source": [
    "usa_election.parties.value_counts()"
   ]
  },
  {
   "cell_type": "code",
   "execution_count": 44,
   "metadata": {},
   "outputs": [
    {
     "data": {
      "text/plain": [
       "parties      contb_receipt_dt\n",
       "Democrat     2011-6-20           8.105758e+07\n",
       "Libertarian  2011-6-20           4.132769e+05\n",
       "Reform       2011-6-20           3.390338e+05\n",
       "Republican   2011-6-20           1.192255e+08\n",
       "Name: contb_receipt_amt, dtype: float64"
      ]
     },
     "execution_count": 44,
     "metadata": {},
     "output_type": "execute_result"
    }
   ],
   "source": [
    "usa_election.groupby(by=['parties', 'contb_receipt_dt'], ).contb_receipt_amt.sum()"
   ]
  },
  {
   "cell_type": "code",
   "execution_count": 45,
   "metadata": {
    "collapsed": true
   },
   "outputs": [
    {
     "ename": "KeyError",
     "evalue": "'6'",
     "output_type": "error",
     "traceback": [
      "\u001b[0;31m---------------------------------------------------------------------------\u001b[0m",
      "\u001b[0;31mKeyError\u001b[0m                                  Traceback (most recent call last)",
      "\u001b[0;32m<ipython-input-45-095efadf3092>\u001b[0m in \u001b[0;36m<module>\u001b[0;34m\u001b[0m\n\u001b[1;32m      7\u001b[0m         \u001b[0;32mreturn\u001b[0m \u001b[0;34m'-'\u001b[0m\u001b[0;34m.\u001b[0m\u001b[0mjoin\u001b[0m\u001b[0;34m(\u001b[0m\u001b[0;34m[\u001b[0m\u001b[0;34m'20'\u001b[0m\u001b[0;34m+\u001b[0m\u001b[0myear\u001b[0m\u001b[0;34m,\u001b[0m \u001b[0mstr\u001b[0m\u001b[0;34m(\u001b[0m\u001b[0mmonth\u001b[0m\u001b[0;34m)\u001b[0m\u001b[0;34m,\u001b[0m \u001b[0mday\u001b[0m\u001b[0;34m]\u001b[0m\u001b[0;34m)\u001b[0m\u001b[0;34m\u001b[0m\u001b[0;34m\u001b[0m\u001b[0m\n\u001b[1;32m      8\u001b[0m \u001b[0;34m\u001b[0m\u001b[0m\n\u001b[0;32m----> 9\u001b[0;31m \u001b[0musa_election\u001b[0m\u001b[0;34m[\u001b[0m\u001b[0;34m'contb_receipt_dt'\u001b[0m\u001b[0;34m]\u001b[0m  \u001b[0;34m=\u001b[0m \u001b[0musa_election\u001b[0m\u001b[0;34m.\u001b[0m\u001b[0mcontb_receipt_dt\u001b[0m\u001b[0;34m.\u001b[0m\u001b[0mmap\u001b[0m\u001b[0;34m(\u001b[0m\u001b[0mtransformDate\u001b[0m\u001b[0;34m)\u001b[0m\u001b[0;34m\u001b[0m\u001b[0;34m\u001b[0m\u001b[0m\n\u001b[0m",
      "\u001b[0;32m/Applications/anaconda3/lib/python3.7/site-packages/pandas/core/series.py\u001b[0m in \u001b[0;36mmap\u001b[0;34m(self, arg, na_action)\u001b[0m\n\u001b[1;32m   3823\u001b[0m         \u001b[0mdtype\u001b[0m\u001b[0;34m:\u001b[0m \u001b[0mobject\u001b[0m\u001b[0;34m\u001b[0m\u001b[0;34m\u001b[0m\u001b[0m\n\u001b[1;32m   3824\u001b[0m         \"\"\"\n\u001b[0;32m-> 3825\u001b[0;31m         \u001b[0mnew_values\u001b[0m \u001b[0;34m=\u001b[0m \u001b[0msuper\u001b[0m\u001b[0;34m(\u001b[0m\u001b[0;34m)\u001b[0m\u001b[0;34m.\u001b[0m\u001b[0m_map_values\u001b[0m\u001b[0;34m(\u001b[0m\u001b[0marg\u001b[0m\u001b[0;34m,\u001b[0m \u001b[0mna_action\u001b[0m\u001b[0;34m=\u001b[0m\u001b[0mna_action\u001b[0m\u001b[0;34m)\u001b[0m\u001b[0;34m\u001b[0m\u001b[0;34m\u001b[0m\u001b[0m\n\u001b[0m\u001b[1;32m   3826\u001b[0m         \u001b[0;32mreturn\u001b[0m \u001b[0mself\u001b[0m\u001b[0;34m.\u001b[0m\u001b[0m_constructor\u001b[0m\u001b[0;34m(\u001b[0m\u001b[0mnew_values\u001b[0m\u001b[0;34m,\u001b[0m \u001b[0mindex\u001b[0m\u001b[0;34m=\u001b[0m\u001b[0mself\u001b[0m\u001b[0;34m.\u001b[0m\u001b[0mindex\u001b[0m\u001b[0;34m)\u001b[0m\u001b[0;34m.\u001b[0m\u001b[0m__finalize__\u001b[0m\u001b[0;34m(\u001b[0m\u001b[0mself\u001b[0m\u001b[0;34m)\u001b[0m\u001b[0;34m\u001b[0m\u001b[0;34m\u001b[0m\u001b[0m\n\u001b[1;32m   3827\u001b[0m \u001b[0;34m\u001b[0m\u001b[0m\n",
      "\u001b[0;32m/Applications/anaconda3/lib/python3.7/site-packages/pandas/core/base.py\u001b[0m in \u001b[0;36m_map_values\u001b[0;34m(self, mapper, na_action)\u001b[0m\n\u001b[1;32m   1298\u001b[0m \u001b[0;34m\u001b[0m\u001b[0m\n\u001b[1;32m   1299\u001b[0m         \u001b[0;31m# mapper is a function\u001b[0m\u001b[0;34m\u001b[0m\u001b[0;34m\u001b[0m\u001b[0;34m\u001b[0m\u001b[0m\n\u001b[0;32m-> 1300\u001b[0;31m         \u001b[0mnew_values\u001b[0m \u001b[0;34m=\u001b[0m \u001b[0mmap_f\u001b[0m\u001b[0;34m(\u001b[0m\u001b[0mvalues\u001b[0m\u001b[0;34m,\u001b[0m \u001b[0mmapper\u001b[0m\u001b[0;34m)\u001b[0m\u001b[0;34m\u001b[0m\u001b[0;34m\u001b[0m\u001b[0m\n\u001b[0m\u001b[1;32m   1301\u001b[0m \u001b[0;34m\u001b[0m\u001b[0m\n\u001b[1;32m   1302\u001b[0m         \u001b[0;32mreturn\u001b[0m \u001b[0mnew_values\u001b[0m\u001b[0;34m\u001b[0m\u001b[0;34m\u001b[0m\u001b[0m\n",
      "\u001b[0;32mpandas/_libs/lib.pyx\u001b[0m in \u001b[0;36mpandas._libs.lib.map_infer\u001b[0;34m()\u001b[0m\n",
      "\u001b[0;32m<ipython-input-45-095efadf3092>\u001b[0m in \u001b[0;36mtransformDate\u001b[0;34m(data)\u001b[0m\n\u001b[1;32m      4\u001b[0m         \u001b[0mnew_date\u001b[0m \u001b[0;34m=\u001b[0m \u001b[0;34m{\u001b[0m\u001b[0;34m}\u001b[0m\u001b[0;34m\u001b[0m\u001b[0;34m\u001b[0m\u001b[0m\n\u001b[1;32m      5\u001b[0m         \u001b[0mday\u001b[0m\u001b[0;34m,\u001b[0m \u001b[0mmonth\u001b[0m\u001b[0;34m,\u001b[0m \u001b[0myear\u001b[0m \u001b[0;34m=\u001b[0m \u001b[0mdate\u001b[0m\u001b[0;34m[\u001b[0m\u001b[0mi\u001b[0m\u001b[0;34m]\u001b[0m\u001b[0;34m.\u001b[0m\u001b[0msplit\u001b[0m\u001b[0;34m(\u001b[0m\u001b[0;34m'-'\u001b[0m\u001b[0;34m)\u001b[0m\u001b[0;34m\u001b[0m\u001b[0;34m\u001b[0m\u001b[0m\n\u001b[0;32m----> 6\u001b[0;31m         \u001b[0mmonth\u001b[0m \u001b[0;34m=\u001b[0m \u001b[0mmonths\u001b[0m\u001b[0;34m[\u001b[0m\u001b[0mmonth\u001b[0m\u001b[0;34m]\u001b[0m\u001b[0;34m\u001b[0m\u001b[0;34m\u001b[0m\u001b[0m\n\u001b[0m\u001b[1;32m      7\u001b[0m         \u001b[0;32mreturn\u001b[0m \u001b[0;34m'-'\u001b[0m\u001b[0;34m.\u001b[0m\u001b[0mjoin\u001b[0m\u001b[0;34m(\u001b[0m\u001b[0;34m[\u001b[0m\u001b[0;34m'20'\u001b[0m\u001b[0;34m+\u001b[0m\u001b[0myear\u001b[0m\u001b[0;34m,\u001b[0m \u001b[0mstr\u001b[0m\u001b[0;34m(\u001b[0m\u001b[0mmonth\u001b[0m\u001b[0;34m)\u001b[0m\u001b[0;34m,\u001b[0m \u001b[0mday\u001b[0m\u001b[0;34m]\u001b[0m\u001b[0;34m)\u001b[0m\u001b[0;34m\u001b[0m\u001b[0;34m\u001b[0m\u001b[0m\n\u001b[1;32m      8\u001b[0m \u001b[0;34m\u001b[0m\u001b[0m\n",
      "\u001b[0;31mKeyError\u001b[0m: '6'"
     ]
    }
   ],
   "source": [
    "date = usa_election.contb_receipt_dt\n",
    "def transformDate(data):\n",
    "    for i in range(len(date)):\n",
    "        new_date = {}\n",
    "        day, month, year = date[i].split('-')\n",
    "        month = months[month]\n",
    "        return '-'.join(['20'+year, str(month), day])\n",
    "\n",
    "usa_election['contb_receipt_dt']  = usa_election.contb_receipt_dt.map(transformDate)"
   ]
  },
  {
   "cell_type": "code",
   "execution_count": 46,
   "metadata": {
    "collapsed": true
   },
   "outputs": [
    {
     "data": {
      "text/html": [
       "<div>\n",
       "<style scoped>\n",
       "    .dataframe tbody tr th:only-of-type {\n",
       "        vertical-align: middle;\n",
       "    }\n",
       "\n",
       "    .dataframe tbody tr th {\n",
       "        vertical-align: top;\n",
       "    }\n",
       "\n",
       "    .dataframe thead th {\n",
       "        text-align: right;\n",
       "    }\n",
       "</style>\n",
       "<table border=\"1\" class=\"dataframe\">\n",
       "  <thead>\n",
       "    <tr style=\"text-align: right;\">\n",
       "      <th></th>\n",
       "      <th>cmte_id</th>\n",
       "      <th>cand_id</th>\n",
       "      <th>cand_nm</th>\n",
       "      <th>contbr_nm</th>\n",
       "      <th>contbr_city</th>\n",
       "      <th>contbr_st</th>\n",
       "      <th>contbr_zip</th>\n",
       "      <th>contbr_employer</th>\n",
       "      <th>contbr_occupation</th>\n",
       "      <th>contb_receipt_amt</th>\n",
       "      <th>contb_receipt_dt</th>\n",
       "      <th>receipt_desc</th>\n",
       "      <th>memo_cd</th>\n",
       "      <th>memo_text</th>\n",
       "      <th>form_tp</th>\n",
       "      <th>file_num</th>\n",
       "      <th>parties</th>\n",
       "    </tr>\n",
       "  </thead>\n",
       "  <tbody>\n",
       "    <tr>\n",
       "      <td>0</td>\n",
       "      <td>C00410118</td>\n",
       "      <td>P20002978</td>\n",
       "      <td>Bachmann, Michelle</td>\n",
       "      <td>HARVEY, WILLIAM</td>\n",
       "      <td>MOBILE</td>\n",
       "      <td>AL</td>\n",
       "      <td>3.6601e+08</td>\n",
       "      <td>RETIRED</td>\n",
       "      <td>RETIRED</td>\n",
       "      <td>250.0</td>\n",
       "      <td>2011-6-20</td>\n",
       "      <td>NaN</td>\n",
       "      <td>NaN</td>\n",
       "      <td>NaN</td>\n",
       "      <td>SA17A</td>\n",
       "      <td>736166</td>\n",
       "      <td>Republican</td>\n",
       "    </tr>\n",
       "    <tr>\n",
       "      <td>1</td>\n",
       "      <td>C00410118</td>\n",
       "      <td>P20002978</td>\n",
       "      <td>Bachmann, Michelle</td>\n",
       "      <td>HARVEY, WILLIAM</td>\n",
       "      <td>MOBILE</td>\n",
       "      <td>AL</td>\n",
       "      <td>3.6601e+08</td>\n",
       "      <td>RETIRED</td>\n",
       "      <td>RETIRED</td>\n",
       "      <td>50.0</td>\n",
       "      <td>2011-6-20</td>\n",
       "      <td>NaN</td>\n",
       "      <td>NaN</td>\n",
       "      <td>NaN</td>\n",
       "      <td>SA17A</td>\n",
       "      <td>736166</td>\n",
       "      <td>Republican</td>\n",
       "    </tr>\n",
       "  </tbody>\n",
       "</table>\n",
       "</div>"
      ],
      "text/plain": [
       "     cmte_id    cand_id             cand_nm        contbr_nm contbr_city  \\\n",
       "0  C00410118  P20002978  Bachmann, Michelle  HARVEY, WILLIAM      MOBILE   \n",
       "1  C00410118  P20002978  Bachmann, Michelle  HARVEY, WILLIAM      MOBILE   \n",
       "\n",
       "  contbr_st  contbr_zip contbr_employer contbr_occupation  contb_receipt_amt  \\\n",
       "0        AL  3.6601e+08         RETIRED           RETIRED              250.0   \n",
       "1        AL  3.6601e+08         RETIRED           RETIRED               50.0   \n",
       "\n",
       "  contb_receipt_dt receipt_desc memo_cd memo_text form_tp  file_num  \\\n",
       "0        2011-6-20          NaN     NaN       NaN   SA17A    736166   \n",
       "1        2011-6-20          NaN     NaN       NaN   SA17A    736166   \n",
       "\n",
       "      parties  \n",
       "0  Republican  \n",
       "1  Republican  "
      ]
     },
     "execution_count": 46,
     "metadata": {},
     "output_type": "execute_result"
    }
   ],
   "source": [
    "usa_election.head(2)"
   ]
  },
  {
   "cell_type": "code",
   "execution_count": 48,
   "metadata": {},
   "outputs": [
    {
     "data": {
      "text/plain": [
       "contb_receipt_amt  parties   \n",
       "-30800.00          Democrat       -30800.00\n",
       "-25800.00          Democrat       -25800.00\n",
       "-7500.00           Republican      -7500.00\n",
       "-5500.00           Democrat        -5500.00\n",
       "-5414.31           Republican      -5414.31\n",
       "                                    ...    \n",
       " 33300.00          Democrat        33300.00\n",
       " 451726.00         Democrat       451726.00\n",
       " 512710.91         Democrat       512710.91\n",
       " 1511192.17        Democrat      1511192.17\n",
       " 1944042.43        Democrat      1944042.43\n",
       "Name: contb_receipt_amt, Length: 6780, dtype: float64"
      ]
     },
     "execution_count": 48,
     "metadata": {},
     "output_type": "execute_result"
    }
   ],
   "source": [
    "usa_election.groupby(by=['contb_receipt_amt', 'parties']).contb_receipt_amt.sum()"
   ]
  },
  {
   "cell_type": "code",
   "execution_count": null,
   "metadata": {},
   "outputs": [],
   "source": []
  }
 ],
 "metadata": {
  "kernelspec": {
   "display_name": "Python 3",
   "language": "python",
   "name": "python3"
  },
  "language_info": {
   "codemirror_mode": {
    "name": "ipython",
    "version": 3
   },
   "file_extension": ".py",
   "mimetype": "text/x-python",
   "name": "python",
   "nbconvert_exporter": "python",
   "pygments_lexer": "ipython3",
   "version": "3.7.4"
  }
 },
 "nbformat": 4,
 "nbformat_minor": 2
}
