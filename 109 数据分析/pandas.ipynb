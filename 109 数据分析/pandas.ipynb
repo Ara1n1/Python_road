{
 "cells": [
  {
   "cell_type": "code",
   "execution_count": 5,
   "metadata": {},
   "outputs": [],
   "source": [
    "import pandas as pd\n",
    "from pandas import Series, DataFrame\n",
    "import numpy as np"
   ]
  },
  {
   "cell_type": "code",
   "execution_count": 17,
   "metadata": {},
   "outputs": [],
   "source": [
    "arr=np.random.randint(1, 255,size=(5,5))"
   ]
  },
  {
   "cell_type": "code",
   "execution_count": 18,
   "metadata": {},
   "outputs": [
    {
     "data": {
      "text/plain": [
       "array([[113,  13, 221, 225,  63],\n",
       "       [247, 186, 242,  80, 109],\n",
       "       [233,  43, 238,  58, 236],\n",
       "       [ 98,  51,  46, 169, 218],\n",
       "       [202, 166, 129, 147,  24]])"
      ]
     },
     "execution_count": 18,
     "metadata": {},
     "output_type": "execute_result"
    }
   ],
   "source": [
    "arr"
   ]
  },
  {
   "cell_type": "code",
   "execution_count": 19,
   "metadata": {},
   "outputs": [
    {
     "data": {
      "text/plain": [
       "array([[ 13, -87, 121, 125, -37],\n",
       "       [147,  86, 142, -20,   9],\n",
       "       [133, -57, 138, -42, 136],\n",
       "       [ -2, -49, -54,  69, 118],\n",
       "       [102,  66,  29,  47, -76]])"
      ]
     },
     "execution_count": 19,
     "metadata": {},
     "output_type": "execute_result"
    }
   ],
   "source": [
    "arr-100"
   ]
  },
  {
   "cell_type": "code",
   "execution_count": 20,
   "metadata": {},
   "outputs": [
    {
     "data": {
      "text/plain": [
       "array([[ 0, -1, -2],\n",
       "       [ 1,  0, -1],\n",
       "       [ 2,  1,  0]])"
      ]
     },
     "execution_count": 20,
     "metadata": {},
     "output_type": "execute_result"
    }
   ],
   "source": [
    "b = np.array([[1],[2],[3]])\n",
    "a = np.array([1,2,3])\n",
    "b-a"
   ]
  },
  {
   "cell_type": "code",
   "execution_count": 21,
   "metadata": {},
   "outputs": [
    {
     "data": {
      "text/plain": [
       "0    1\n",
       "1    2\n",
       "2    3\n",
       "dtype: int64"
      ]
     },
     "execution_count": 21,
     "metadata": {},
     "output_type": "execute_result"
    }
   ],
   "source": [
    "Series(data=[1,2,3])"
   ]
  },
  {
   "cell_type": "code",
   "execution_count": 24,
   "metadata": {
    "collapsed": true
   },
   "outputs": [
    {
     "data": {
      "text/plain": [
       "a    1\n",
       "b    2\n",
       "c    3\n",
       "dtype: int64"
      ]
     },
     "execution_count": 24,
     "metadata": {},
     "output_type": "execute_result"
    }
   ],
   "source": [
    "Series(data=[1,2,3], index=['a', 'b','c'])"
   ]
  },
  {
   "cell_type": "code",
   "execution_count": 36,
   "metadata": {
    "collapsed": true
   },
   "outputs": [
    {
     "data": {
      "text/plain": [
       "0    7\n",
       "1    1\n",
       "2    6\n",
       "3    2\n",
       "4    4\n",
       "5    7\n",
       "6    6\n",
       "7    6\n",
       "8    2\n",
       "9    9\n",
       "dtype: int64"
      ]
     },
     "execution_count": 36,
     "metadata": {},
     "output_type": "execute_result"
    }
   ],
   "source": [
    "Series(data=np.random.randint(1,10, size=10))"
   ]
  },
  {
   "cell_type": "code",
   "execution_count": 59,
   "metadata": {},
   "outputs": [
    {
     "data": {
      "text/plain": [
       "0     1\n",
       "1     2\n",
       "2     3\n",
       "3     4\n",
       "4     5\n",
       "5     6\n",
       "6     7\n",
       "7     8\n",
       "8     9\n",
       "9    10\n",
       "dtype: int64"
      ]
     },
     "execution_count": 59,
     "metadata": {},
     "output_type": "execute_result"
    }
   ],
   "source": [
    "s1 = Series(range(1,11))\n",
    "s1"
   ]
  },
  {
   "cell_type": "code",
   "execution_count": 63,
   "metadata": {},
   "outputs": [
    {
     "data": {
      "text/plain": [
       "0     1\n",
       "1     1\n",
       "2     2\n",
       "3     2\n",
       "4     3\n",
       "5     4\n",
       "6     5\n",
       "7     5\n",
       "8     5\n",
       "9     5\n",
       "10    5\n",
       "dtype: int64"
      ]
     },
     "execution_count": 63,
     "metadata": {},
     "output_type": "execute_result"
    }
   ],
   "source": [
    "s = Series([1,1,2,2,3,4,5,5,5,5,5])\n",
    "s"
   ]
  },
  {
   "cell_type": "code",
   "execution_count": 61,
   "metadata": {},
   "outputs": [
    {
     "data": {
      "text/plain": [
       "array([1, 2, 3, 4, 5])"
      ]
     },
     "execution_count": 61,
     "metadata": {},
     "output_type": "execute_result"
    }
   ],
   "source": [
    "s.unique()"
   ]
  },
  {
   "cell_type": "code",
   "execution_count": 64,
   "metadata": {},
   "outputs": [
    {
     "data": {
      "text/plain": [
       "0     0.0\n",
       "1     1.0\n",
       "2     1.0\n",
       "3     2.0\n",
       "4     2.0\n",
       "5     2.0\n",
       "6     2.0\n",
       "7     3.0\n",
       "8     4.0\n",
       "9     5.0\n",
       "10    NaN\n",
       "dtype: float64"
      ]
     },
     "execution_count": 64,
     "metadata": {},
     "output_type": "execute_result"
    }
   ],
   "source": [
    "s1 -s"
   ]
  },
  {
   "cell_type": "code",
   "execution_count": 65,
   "metadata": {},
   "outputs": [
    {
     "data": {
      "text/plain": [
       "0     False\n",
       "1     False\n",
       "2     False\n",
       "3     False\n",
       "4     False\n",
       "5     False\n",
       "6     False\n",
       "7     False\n",
       "8     False\n",
       "9     False\n",
       "10     True\n",
       "dtype: bool"
      ]
     },
     "execution_count": 65,
     "metadata": {},
     "output_type": "execute_result"
    }
   ],
   "source": [
    "pd.isnull(s1-s)"
   ]
  },
  {
   "cell_type": "code",
   "execution_count": 67,
   "metadata": {},
   "outputs": [
    {
     "data": {
      "text/plain": [
       "0     False\n",
       "1     False\n",
       "2     False\n",
       "3     False\n",
       "4     False\n",
       "5     False\n",
       "6     False\n",
       "7     False\n",
       "8     False\n",
       "9     False\n",
       "10     True\n",
       "dtype: bool"
      ]
     },
     "execution_count": 67,
     "metadata": {},
     "output_type": "execute_result"
    }
   ],
   "source": [
    "(s1-s).isnull()"
   ]
  },
  {
   "cell_type": "code",
   "execution_count": 71,
   "metadata": {},
   "outputs": [
    {
     "data": {
      "text/plain": [
       "0    0.0\n",
       "1    1.0\n",
       "2    1.0\n",
       "3    2.0\n",
       "4    2.0\n",
       "5    2.0\n",
       "6    2.0\n",
       "7    3.0\n",
       "8    4.0\n",
       "9    5.0\n",
       "dtype: float64"
      ]
     },
     "execution_count": 71,
     "metadata": {},
     "output_type": "execute_result"
    }
   ],
   "source": [
    "(s1-s)[(s1-s).notnull()]"
   ]
  },
  {
   "cell_type": "code",
   "execution_count": 77,
   "metadata": {},
   "outputs": [
    {
     "data": {
      "text/plain": [
       "a    1\n",
       "b    2\n",
       "c    3\n",
       "d    4\n",
       "dtype: int64"
      ]
     },
     "execution_count": 77,
     "metadata": {},
     "output_type": "execute_result"
    }
   ],
   "source": [
    "s = Series([1,2,3,4], index=['a', 'b', 'c', 'd'])\n",
    "s"
   ]
  },
  {
   "cell_type": "code",
   "execution_count": 78,
   "metadata": {},
   "outputs": [
    {
     "data": {
      "text/plain": [
       "a    1\n",
       "b    2\n",
       "c    3\n",
       "dtype: int64"
      ]
     },
     "execution_count": 78,
     "metadata": {},
     "output_type": "execute_result"
    }
   ],
   "source": [
    "s[0:3]"
   ]
  },
  {
   "cell_type": "code",
   "execution_count": 79,
   "metadata": {},
   "outputs": [
    {
     "data": {
      "text/plain": [
       "a    1\n",
       "c    3\n",
       "dtype: int64"
      ]
     },
     "execution_count": 79,
     "metadata": {},
     "output_type": "execute_result"
    }
   ],
   "source": [
    "s[::2]"
   ]
  },
  {
   "cell_type": "code",
   "execution_count": 80,
   "metadata": {},
   "outputs": [
    {
     "data": {
      "text/plain": [
       "a    1\n",
       "b    2\n",
       "dtype: int64"
      ]
     },
     "execution_count": 80,
     "metadata": {},
     "output_type": "execute_result"
    }
   ],
   "source": [
    "s['a':'b']"
   ]
  },
  {
   "cell_type": "code",
   "execution_count": 81,
   "metadata": {},
   "outputs": [
    {
     "data": {
      "text/plain": [
       "Index(['a', 'b', 'c', 'd'], dtype='object')"
      ]
     },
     "execution_count": 81,
     "metadata": {},
     "output_type": "execute_result"
    }
   ],
   "source": [
    "s.index"
   ]
  },
  {
   "cell_type": "code",
   "execution_count": 87,
   "metadata": {},
   "outputs": [
    {
     "data": {
      "text/plain": [
       "a    1\n",
       "b    2\n",
       "dtype: int64"
      ]
     },
     "execution_count": 87,
     "metadata": {},
     "output_type": "execute_result"
    }
   ],
   "source": [
    "s.loc['a':'b']"
   ]
  },
  {
   "cell_type": "code",
   "execution_count": 84,
   "metadata": {},
   "outputs": [
    {
     "data": {
      "text/plain": [
       "a    1\n",
       "b    2\n",
       "c    3\n",
       "dtype: int64"
      ]
     },
     "execution_count": 84,
     "metadata": {},
     "output_type": "execute_result"
    }
   ],
   "source": [
    "s.iloc[0:3]"
   ]
  },
  {
   "cell_type": "code",
   "execution_count": 88,
   "metadata": {},
   "outputs": [
    {
     "data": {
      "text/plain": [
       "array([1, 2, 3, 4])"
      ]
     },
     "execution_count": 88,
     "metadata": {},
     "output_type": "execute_result"
    }
   ],
   "source": [
    "s.values"
   ]
  },
  {
   "cell_type": "code",
   "execution_count": 89,
   "metadata": {},
   "outputs": [
    {
     "data": {
      "text/plain": [
       "Index(['a', 'b', 'c', 'd'], dtype='object')"
      ]
     },
     "execution_count": 89,
     "metadata": {},
     "output_type": "execute_result"
    }
   ],
   "source": [
    "s.index"
   ]
  },
  {
   "cell_type": "code",
   "execution_count": 90,
   "metadata": {},
   "outputs": [
    {
     "data": {
      "text/plain": [
       "4"
      ]
     },
     "execution_count": 90,
     "metadata": {},
     "output_type": "execute_result"
    }
   ],
   "source": [
    "s.size"
   ]
  },
  {
   "cell_type": "code",
   "execution_count": 91,
   "metadata": {},
   "outputs": [
    {
     "data": {
      "text/plain": [
       "(4,)"
      ]
     },
     "execution_count": 91,
     "metadata": {},
     "output_type": "execute_result"
    }
   ],
   "source": [
    "s.shape"
   ]
  },
  {
   "cell_type": "code",
   "execution_count": 92,
   "metadata": {},
   "outputs": [
    {
     "data": {
      "text/plain": [
       "a    1\n",
       "b    2\n",
       "dtype: int64"
      ]
     },
     "execution_count": 92,
     "metadata": {},
     "output_type": "execute_result"
    }
   ],
   "source": [
    "s.head(2)"
   ]
  },
  {
   "cell_type": "code",
   "execution_count": 93,
   "metadata": {},
   "outputs": [
    {
     "data": {
      "text/plain": [
       "c    3\n",
       "d    4\n",
       "dtype: int64"
      ]
     },
     "execution_count": 93,
     "metadata": {},
     "output_type": "execute_result"
    }
   ],
   "source": [
    "s.tail(2)"
   ]
  },
  {
   "cell_type": "code",
   "execution_count": 94,
   "metadata": {},
   "outputs": [
    {
     "data": {
      "text/plain": [
       "0     1\n",
       "1     2\n",
       "2     3\n",
       "3     4\n",
       "4     5\n",
       "5     6\n",
       "6     7\n",
       "7     8\n",
       "8     9\n",
       "9    10\n",
       "dtype: int64"
      ]
     },
     "execution_count": 94,
     "metadata": {},
     "output_type": "execute_result"
    }
   ],
   "source": [
    "s1"
   ]
  },
  {
   "cell_type": "code",
   "execution_count": 95,
   "metadata": {},
   "outputs": [
    {
     "data": {
      "text/plain": [
       "a    1\n",
       "b    2\n",
       "c    3\n",
       "d    4\n",
       "dtype: int64"
      ]
     },
     "execution_count": 95,
     "metadata": {},
     "output_type": "execute_result"
    }
   ],
   "source": [
    "s"
   ]
  },
  {
   "cell_type": "code",
   "execution_count": 96,
   "metadata": {},
   "outputs": [
    {
     "data": {
      "text/plain": [
       "0   NaN\n",
       "1   NaN\n",
       "2   NaN\n",
       "3   NaN\n",
       "4   NaN\n",
       "5   NaN\n",
       "6   NaN\n",
       "7   NaN\n",
       "8   NaN\n",
       "9   NaN\n",
       "a   NaN\n",
       "b   NaN\n",
       "c   NaN\n",
       "d   NaN\n",
       "dtype: float64"
      ]
     },
     "execution_count": 96,
     "metadata": {},
     "output_type": "execute_result"
    }
   ],
   "source": [
    "s1 + s"
   ]
  },
  {
   "cell_type": "code",
   "execution_count": 99,
   "metadata": {},
   "outputs": [
    {
     "data": {
      "text/plain": [
       "0     1.0\n",
       "1     2.0\n",
       "2     3.0\n",
       "3     4.0\n",
       "4     5.0\n",
       "5     6.0\n",
       "6     7.0\n",
       "7     8.0\n",
       "8     9.0\n",
       "9    10.0\n",
       "a     1.0\n",
       "b     2.0\n",
       "c     3.0\n",
       "d     4.0\n",
       "dtype: float64"
      ]
     },
     "execution_count": 99,
     "metadata": {},
     "output_type": "execute_result"
    }
   ],
   "source": [
    "s1.add(s, fill_value = 0)"
   ]
  },
  {
   "cell_type": "code",
   "execution_count": 100,
   "metadata": {},
   "outputs": [
    {
     "data": {
      "text/plain": [
       "0     1.0\n",
       "1     2.0\n",
       "2     3.0\n",
       "3     4.0\n",
       "4     5.0\n",
       "5     6.0\n",
       "6     7.0\n",
       "7     8.0\n",
       "8     9.0\n",
       "9    10.0\n",
       "a    -1.0\n",
       "b    -2.0\n",
       "c    -3.0\n",
       "d    -4.0\n",
       "dtype: float64"
      ]
     },
     "execution_count": 100,
     "metadata": {},
     "output_type": "execute_result"
    }
   ],
   "source": [
    "s1.sub(s, fill_value=0)"
   ]
  },
  {
   "cell_type": "code",
   "execution_count": 105,
   "metadata": {},
   "outputs": [
    {
     "data": {
      "text/plain": [
       "0    0.0\n",
       "1    0.0\n",
       "2    0.0\n",
       "3    0.0\n",
       "4    0.0\n",
       "5    0.0\n",
       "6    0.0\n",
       "7    0.0\n",
       "8    0.0\n",
       "9    0.0\n",
       "a    0.0\n",
       "b    1.0\n",
       "c    1.0\n",
       "d    1.0\n",
       "dtype: float64"
      ]
     },
     "execution_count": 105,
     "metadata": {},
     "output_type": "execute_result"
    }
   ],
   "source": [
    "s1.mod(s,fill_value=1)"
   ]
  },
  {
   "cell_type": "code",
   "execution_count": 8,
   "metadata": {},
   "outputs": [
    {
     "data": {
      "text/html": [
       "<div>\n",
       "<style scoped>\n",
       "    .dataframe tbody tr th:only-of-type {\n",
       "        vertical-align: middle;\n",
       "    }\n",
       "\n",
       "    .dataframe tbody tr th {\n",
       "        vertical-align: top;\n",
       "    }\n",
       "\n",
       "    .dataframe thead th {\n",
       "        text-align: right;\n",
       "    }\n",
       "</style>\n",
       "<table border=\"1\" class=\"dataframe\">\n",
       "  <thead>\n",
       "    <tr style=\"text-align: right;\">\n",
       "      <th></th>\n",
       "      <th>1</th>\n",
       "      <th>2</th>\n",
       "      <th>3</th>\n",
       "    </tr>\n",
       "  </thead>\n",
       "  <tbody>\n",
       "    <tr>\n",
       "      <th>a</th>\n",
       "      <td>29</td>\n",
       "      <td>46</td>\n",
       "      <td>91</td>\n",
       "    </tr>\n",
       "    <tr>\n",
       "      <th>b</th>\n",
       "      <td>1</td>\n",
       "      <td>43</td>\n",
       "      <td>27</td>\n",
       "    </tr>\n",
       "    <tr>\n",
       "      <th>c</th>\n",
       "      <td>17</td>\n",
       "      <td>45</td>\n",
       "      <td>87</td>\n",
       "    </tr>\n",
       "  </tbody>\n",
       "</table>\n",
       "</div>"
      ],
      "text/plain": [
       "    1   2   3\n",
       "a  29  46  91\n",
       "b   1  43  27\n",
       "c  17  45  87"
      ]
     },
     "execution_count": 8,
     "metadata": {},
     "output_type": "execute_result"
    }
   ],
   "source": [
    "df=DataFrame(data=np.random.randint(0,100, size=(3,3)), index=('a', 'b', 'c'), columns=('1', '2', '3'))\n",
    "df"
   ]
  },
  {
   "cell_type": "code",
   "execution_count": 93,
   "metadata": {},
   "outputs": [
    {
     "data": {
      "text/html": [
       "<div>\n",
       "<style scoped>\n",
       "    .dataframe tbody tr th:only-of-type {\n",
       "        vertical-align: middle;\n",
       "    }\n",
       "\n",
       "    .dataframe tbody tr th {\n",
       "        vertical-align: top;\n",
       "    }\n",
       "\n",
       "    .dataframe thead th {\n",
       "        text-align: right;\n",
       "    }\n",
       "</style>\n",
       "<table border=\"1\" class=\"dataframe\">\n",
       "  <thead>\n",
       "    <tr style=\"text-align: right;\">\n",
       "      <th></th>\n",
       "      <th>1</th>\n",
       "      <th>2</th>\n",
       "    </tr>\n",
       "  </thead>\n",
       "  <tbody>\n",
       "    <tr>\n",
       "      <th>a</th>\n",
       "      <td>29</td>\n",
       "      <td>46</td>\n",
       "    </tr>\n",
       "    <tr>\n",
       "      <th>b</th>\n",
       "      <td>1</td>\n",
       "      <td>43</td>\n",
       "    </tr>\n",
       "    <tr>\n",
       "      <th>c</th>\n",
       "      <td>17</td>\n",
       "      <td>45</td>\n",
       "    </tr>\n",
       "  </tbody>\n",
       "</table>\n",
       "</div>"
      ],
      "text/plain": [
       "    1   2\n",
       "a  29  46\n",
       "b   1  43\n",
       "c  17  45"
      ]
     },
     "execution_count": 93,
     "metadata": {},
     "output_type": "execute_result"
    }
   ],
   "source": [
    "df[['1','2']]"
   ]
  },
  {
   "cell_type": "code",
   "execution_count": 86,
   "metadata": {},
   "outputs": [
    {
     "data": {
      "text/html": [
       "<div>\n",
       "<style scoped>\n",
       "    .dataframe tbody tr th:only-of-type {\n",
       "        vertical-align: middle;\n",
       "    }\n",
       "\n",
       "    .dataframe tbody tr th {\n",
       "        vertical-align: top;\n",
       "    }\n",
       "\n",
       "    .dataframe thead th {\n",
       "        text-align: right;\n",
       "    }\n",
       "</style>\n",
       "<table border=\"1\" class=\"dataframe\">\n",
       "  <thead>\n",
       "    <tr style=\"text-align: right;\">\n",
       "      <th></th>\n",
       "      <th>1</th>\n",
       "      <th>2</th>\n",
       "    </tr>\n",
       "  </thead>\n",
       "  <tbody>\n",
       "    <tr>\n",
       "      <th>a</th>\n",
       "      <td>29</td>\n",
       "      <td>46</td>\n",
       "    </tr>\n",
       "    <tr>\n",
       "      <th>c</th>\n",
       "      <td>17</td>\n",
       "      <td>45</td>\n",
       "    </tr>\n",
       "  </tbody>\n",
       "</table>\n",
       "</div>"
      ],
      "text/plain": [
       "    1   2\n",
       "a  29  46\n",
       "c  17  45"
      ]
     },
     "execution_count": 86,
     "metadata": {},
     "output_type": "execute_result"
    }
   ],
   "source": [
    "df.loc[['a','c'], ['1', '2']]"
   ]
  },
  {
   "cell_type": "code",
   "execution_count": 111,
   "metadata": {},
   "outputs": [
    {
     "data": {
      "text/plain": [
       "(3, 3)"
      ]
     },
     "execution_count": 111,
     "metadata": {},
     "output_type": "execute_result"
    }
   ],
   "source": [
    "df.shape"
   ]
  },
  {
   "cell_type": "code",
   "execution_count": 112,
   "metadata": {},
   "outputs": [
    {
     "data": {
      "text/plain": [
       "9"
      ]
     },
     "execution_count": 112,
     "metadata": {},
     "output_type": "execute_result"
    }
   ],
   "source": [
    "df.size"
   ]
  },
  {
   "cell_type": "code",
   "execution_count": 113,
   "metadata": {},
   "outputs": [
    {
     "data": {
      "text/plain": [
       "Index(['a', 'b', 'c'], dtype='object')"
      ]
     },
     "execution_count": 113,
     "metadata": {},
     "output_type": "execute_result"
    }
   ],
   "source": [
    "df.index"
   ]
  },
  {
   "cell_type": "code",
   "execution_count": 114,
   "metadata": {},
   "outputs": [
    {
     "data": {
      "text/plain": [
       "Index(['1', '2', '3'], dtype='object')"
      ]
     },
     "execution_count": 114,
     "metadata": {},
     "output_type": "execute_result"
    }
   ],
   "source": [
    "df.columns"
   ]
  },
  {
   "cell_type": "code",
   "execution_count": 115,
   "metadata": {},
   "outputs": [
    {
     "data": {
      "text/plain": [
       "array([[13, 75, 52],\n",
       "       [ 5, 93, 84],\n",
       "       [48, 62, 42]])"
      ]
     },
     "execution_count": 115,
     "metadata": {},
     "output_type": "execute_result"
    }
   ],
   "source": [
    "df.values"
   ]
  },
  {
   "cell_type": "code",
   "execution_count": 116,
   "metadata": {},
   "outputs": [],
   "source": [
    "dic = {\n",
    "    '张三':[11,22,33,44],\n",
    "    '李四':[55,66,77,88]\n",
    "}\n",
    "df_score = DataFrame(data=dic,index=['语文','数学','英语','理综'])"
   ]
  },
  {
   "cell_type": "code",
   "execution_count": 117,
   "metadata": {},
   "outputs": [
    {
     "data": {
      "text/html": [
       "<div>\n",
       "<style scoped>\n",
       "    .dataframe tbody tr th:only-of-type {\n",
       "        vertical-align: middle;\n",
       "    }\n",
       "\n",
       "    .dataframe tbody tr th {\n",
       "        vertical-align: top;\n",
       "    }\n",
       "\n",
       "    .dataframe thead th {\n",
       "        text-align: right;\n",
       "    }\n",
       "</style>\n",
       "<table border=\"1\" class=\"dataframe\">\n",
       "  <thead>\n",
       "    <tr style=\"text-align: right;\">\n",
       "      <th></th>\n",
       "      <th>张三</th>\n",
       "      <th>李四</th>\n",
       "    </tr>\n",
       "  </thead>\n",
       "  <tbody>\n",
       "    <tr>\n",
       "      <th>语文</th>\n",
       "      <td>11</td>\n",
       "      <td>55</td>\n",
       "    </tr>\n",
       "    <tr>\n",
       "      <th>数学</th>\n",
       "      <td>22</td>\n",
       "      <td>66</td>\n",
       "    </tr>\n",
       "    <tr>\n",
       "      <th>英语</th>\n",
       "      <td>33</td>\n",
       "      <td>77</td>\n",
       "    </tr>\n",
       "    <tr>\n",
       "      <th>理综</th>\n",
       "      <td>44</td>\n",
       "      <td>88</td>\n",
       "    </tr>\n",
       "  </tbody>\n",
       "</table>\n",
       "</div>"
      ],
      "text/plain": [
       "    张三  李四\n",
       "语文  11  55\n",
       "数学  22  66\n",
       "英语  33  77\n",
       "理综  44  88"
      ]
     },
     "execution_count": 117,
     "metadata": {},
     "output_type": "execute_result"
    }
   ],
   "source": [
    "df_score"
   ]
  },
  {
   "cell_type": "code",
   "execution_count": 4,
   "metadata": {},
   "outputs": [
    {
     "ename": "NameError",
     "evalue": "name 'DataFrame' is not defined",
     "output_type": "error",
     "traceback": [
      "\u001b[0;31m---------------------------------------------------------------------------\u001b[0m",
      "\u001b[0;31mNameError\u001b[0m                                 Traceback (most recent call last)",
      "\u001b[0;32m<ipython-input-4-1274b4f386bc>\u001b[0m in \u001b[0;36m<module>\u001b[0;34m\u001b[0m\n\u001b[1;32m      3\u001b[0m     \u001b[0;34m'李四'\u001b[0m\u001b[0;34m:\u001b[0m\u001b[0;34m[\u001b[0m\u001b[0;36m1\u001b[0m\u001b[0;34m,\u001b[0m\u001b[0;36m2\u001b[0m\u001b[0;34m,\u001b[0m\u001b[0;36m3\u001b[0m\u001b[0;34m]\u001b[0m\u001b[0;34m\u001b[0m\u001b[0;34m\u001b[0m\u001b[0m\n\u001b[1;32m      4\u001b[0m }\n\u001b[0;32m----> 5\u001b[0;31m \u001b[0mDataFrame\u001b[0m\u001b[0;34m(\u001b[0m\u001b[0mdic\u001b[0m\u001b[0;34m,\u001b[0m \u001b[0mindex\u001b[0m\u001b[0;34m=\u001b[0m\u001b[0;34m[\u001b[0m\u001b[0;34m'语文'\u001b[0m\u001b[0;34m,\u001b[0m \u001b[0;34m'英语'\u001b[0m\u001b[0;34m,\u001b[0m \u001b[0;34m'数学'\u001b[0m\u001b[0;34m]\u001b[0m\u001b[0;34m)\u001b[0m\u001b[0;34m\u001b[0m\u001b[0;34m\u001b[0m\u001b[0m\n\u001b[0m",
      "\u001b[0;31mNameError\u001b[0m: name 'DataFrame' is not defined"
     ]
    }
   ],
   "source": [
    "dic = {\n",
    "    '张三':[4,5,6],\n",
    "    '李四':[1,2,3]\n",
    "}\n",
    "DataFrame(dic, index=['语文', '英语', '数学'])"
   ]
  },
  {
   "cell_type": "code",
   "execution_count": 119,
   "metadata": {},
   "outputs": [
    {
     "data": {
      "text/html": [
       "<div>\n",
       "<style scoped>\n",
       "    .dataframe tbody tr th:only-of-type {\n",
       "        vertical-align: middle;\n",
       "    }\n",
       "\n",
       "    .dataframe tbody tr th {\n",
       "        vertical-align: top;\n",
       "    }\n",
       "\n",
       "    .dataframe thead th {\n",
       "        text-align: right;\n",
       "    }\n",
       "</style>\n",
       "<table border=\"1\" class=\"dataframe\">\n",
       "  <thead>\n",
       "    <tr style=\"text-align: right;\">\n",
       "      <th></th>\n",
       "      <th>1</th>\n",
       "      <th>2</th>\n",
       "      <th>3</th>\n",
       "    </tr>\n",
       "  </thead>\n",
       "  <tbody>\n",
       "    <tr>\n",
       "      <th>a</th>\n",
       "      <td>34</td>\n",
       "      <td>40</td>\n",
       "      <td>46</td>\n",
       "    </tr>\n",
       "    <tr>\n",
       "      <th>b</th>\n",
       "      <td>32</td>\n",
       "      <td>94</td>\n",
       "      <td>86</td>\n",
       "    </tr>\n",
       "    <tr>\n",
       "      <th>c</th>\n",
       "      <td>58</td>\n",
       "      <td>69</td>\n",
       "      <td>45</td>\n",
       "    </tr>\n",
       "  </tbody>\n",
       "</table>\n",
       "</div>"
      ],
      "text/plain": [
       "    1   2   3\n",
       "a  34  40  46\n",
       "b  32  94  86\n",
       "c  58  69  45"
      ]
     },
     "execution_count": 119,
     "metadata": {},
     "output_type": "execute_result"
    }
   ],
   "source": [
    "df=DataFrame(data=np.random.randint(0,100, size=(3,3)), index=('a', 'b', 'c'), columns=('1', '2', '3'))\n",
    "df"
   ]
  },
  {
   "cell_type": "code",
   "execution_count": 128,
   "metadata": {},
   "outputs": [
    {
     "data": {
      "text/html": [
       "<div>\n",
       "<style scoped>\n",
       "    .dataframe tbody tr th:only-of-type {\n",
       "        vertical-align: middle;\n",
       "    }\n",
       "\n",
       "    .dataframe tbody tr th {\n",
       "        vertical-align: top;\n",
       "    }\n",
       "\n",
       "    .dataframe thead th {\n",
       "        text-align: right;\n",
       "    }\n",
       "</style>\n",
       "<table border=\"1\" class=\"dataframe\">\n",
       "  <thead>\n",
       "    <tr style=\"text-align: right;\">\n",
       "      <th></th>\n",
       "      <th>1</th>\n",
       "      <th>2</th>\n",
       "    </tr>\n",
       "  </thead>\n",
       "  <tbody>\n",
       "    <tr>\n",
       "      <th>a</th>\n",
       "      <td>34</td>\n",
       "      <td>40</td>\n",
       "    </tr>\n",
       "    <tr>\n",
       "      <th>b</th>\n",
       "      <td>32</td>\n",
       "      <td>94</td>\n",
       "    </tr>\n",
       "    <tr>\n",
       "      <th>c</th>\n",
       "      <td>58</td>\n",
       "      <td>69</td>\n",
       "    </tr>\n",
       "  </tbody>\n",
       "</table>\n",
       "</div>"
      ],
      "text/plain": [
       "    1   2\n",
       "a  34  40\n",
       "b  32  94\n",
       "c  58  69"
      ]
     },
     "execution_count": 128,
     "metadata": {},
     "output_type": "execute_result"
    }
   ],
   "source": [
    "df[['1','2']]"
   ]
  },
  {
   "cell_type": "code",
   "execution_count": 131,
   "metadata": {},
   "outputs": [
    {
     "ename": "SyntaxError",
     "evalue": "invalid syntax (<ipython-input-131-2f0a8bd4aaec>, line 1)",
     "output_type": "error",
     "traceback": [
      "\u001b[0;36m  File \u001b[0;32m\"<ipython-input-131-2f0a8bd4aaec>\"\u001b[0;36m, line \u001b[0;32m1\u001b[0m\n\u001b[0;31m    df.'1'\u001b[0m\n\u001b[0m         ^\u001b[0m\n\u001b[0;31mSyntaxError\u001b[0m\u001b[0;31m:\u001b[0m invalid syntax\n"
     ]
    }
   ],
   "source": []
  },
  {
   "cell_type": "code",
   "execution_count": 136,
   "metadata": {},
   "outputs": [
    {
     "data": {
      "text/plain": [
       "pandas.core.series.Series"
      ]
     },
     "execution_count": 136,
     "metadata": {},
     "output_type": "execute_result"
    }
   ],
   "source": [
    "df=DataFrame(np.random.randint(0,100, size=(3,3)), index=('a','b','c'), columns=('A','B','C'))\n",
    "df.A\n",
    "type(df.A)"
   ]
  },
  {
   "cell_type": "code",
   "execution_count": 142,
   "metadata": {},
   "outputs": [
    {
     "data": {
      "text/html": [
       "<div>\n",
       "<style scoped>\n",
       "    .dataframe tbody tr th:only-of-type {\n",
       "        vertical-align: middle;\n",
       "    }\n",
       "\n",
       "    .dataframe tbody tr th {\n",
       "        vertical-align: top;\n",
       "    }\n",
       "\n",
       "    .dataframe thead th {\n",
       "        text-align: right;\n",
       "    }\n",
       "</style>\n",
       "<table border=\"1\" class=\"dataframe\">\n",
       "  <thead>\n",
       "    <tr style=\"text-align: right;\">\n",
       "      <th></th>\n",
       "      <th>A</th>\n",
       "      <th>B</th>\n",
       "      <th>C</th>\n",
       "    </tr>\n",
       "  </thead>\n",
       "  <tbody>\n",
       "    <tr>\n",
       "      <th>a</th>\n",
       "      <td>0</td>\n",
       "      <td>44</td>\n",
       "      <td>68</td>\n",
       "    </tr>\n",
       "    <tr>\n",
       "      <th>b</th>\n",
       "      <td>14</td>\n",
       "      <td>4</td>\n",
       "      <td>6</td>\n",
       "    </tr>\n",
       "    <tr>\n",
       "      <th>c</th>\n",
       "      <td>42</td>\n",
       "      <td>73</td>\n",
       "      <td>44</td>\n",
       "    </tr>\n",
       "  </tbody>\n",
       "</table>\n",
       "</div>"
      ],
      "text/plain": [
       "    A   B   C\n",
       "a   0  44  68\n",
       "b  14   4   6\n",
       "c  42  73  44"
      ]
     },
     "execution_count": 142,
     "metadata": {},
     "output_type": "execute_result"
    }
   ],
   "source": [
    "df"
   ]
  },
  {
   "cell_type": "code",
   "execution_count": 150,
   "metadata": {},
   "outputs": [
    {
     "data": {
      "text/plain": [
       "a    68\n",
       "c    44\n",
       "Name: C, dtype: int64"
      ]
     },
     "execution_count": 150,
     "metadata": {},
     "output_type": "execute_result"
    }
   ],
   "source": [
    "df.loc[['a', 'c'], 'C']"
   ]
  },
  {
   "cell_type": "code",
   "execution_count": 152,
   "metadata": {},
   "outputs": [
    {
     "data": {
      "text/plain": [
       "a     0\n",
       "b    14\n",
       "c    42\n",
       "Name: A, dtype: int64"
      ]
     },
     "execution_count": 152,
     "metadata": {},
     "output_type": "execute_result"
    }
   ],
   "source": [
    "df['A']"
   ]
  },
  {
   "cell_type": "code",
   "execution_count": 155,
   "metadata": {},
   "outputs": [
    {
     "data": {
      "text/html": [
       "<div>\n",
       "<style scoped>\n",
       "    .dataframe tbody tr th:only-of-type {\n",
       "        vertical-align: middle;\n",
       "    }\n",
       "\n",
       "    .dataframe tbody tr th {\n",
       "        vertical-align: top;\n",
       "    }\n",
       "\n",
       "    .dataframe thead th {\n",
       "        text-align: right;\n",
       "    }\n",
       "</style>\n",
       "<table border=\"1\" class=\"dataframe\">\n",
       "  <thead>\n",
       "    <tr style=\"text-align: right;\">\n",
       "      <th></th>\n",
       "      <th>A</th>\n",
       "      <th>B</th>\n",
       "      <th>C</th>\n",
       "    </tr>\n",
       "  </thead>\n",
       "  <tbody>\n",
       "    <tr>\n",
       "      <th>a</th>\n",
       "      <td>0</td>\n",
       "      <td>44</td>\n",
       "      <td>68</td>\n",
       "    </tr>\n",
       "    <tr>\n",
       "      <th>b</th>\n",
       "      <td>14</td>\n",
       "      <td>4</td>\n",
       "      <td>6</td>\n",
       "    </tr>\n",
       "  </tbody>\n",
       "</table>\n",
       "</div>"
      ],
      "text/plain": [
       "    A   B   C\n",
       "a   0  44  68\n",
       "b  14   4   6"
      ]
     },
     "execution_count": 155,
     "metadata": {},
     "output_type": "execute_result"
    }
   ],
   "source": [
    "df.loc[['a','b']]"
   ]
  },
  {
   "cell_type": "code",
   "execution_count": 156,
   "metadata": {},
   "outputs": [
    {
     "data": {
      "text/html": [
       "<div>\n",
       "<style scoped>\n",
       "    .dataframe tbody tr th:only-of-type {\n",
       "        vertical-align: middle;\n",
       "    }\n",
       "\n",
       "    .dataframe tbody tr th {\n",
       "        vertical-align: top;\n",
       "    }\n",
       "\n",
       "    .dataframe thead th {\n",
       "        text-align: right;\n",
       "    }\n",
       "</style>\n",
       "<table border=\"1\" class=\"dataframe\">\n",
       "  <thead>\n",
       "    <tr style=\"text-align: right;\">\n",
       "      <th></th>\n",
       "      <th>A</th>\n",
       "      <th>B</th>\n",
       "      <th>C</th>\n",
       "    </tr>\n",
       "  </thead>\n",
       "  <tbody>\n",
       "    <tr>\n",
       "      <th>a</th>\n",
       "      <td>0</td>\n",
       "      <td>44</td>\n",
       "      <td>68</td>\n",
       "    </tr>\n",
       "    <tr>\n",
       "      <th>b</th>\n",
       "      <td>14</td>\n",
       "      <td>4</td>\n",
       "      <td>6</td>\n",
       "    </tr>\n",
       "  </tbody>\n",
       "</table>\n",
       "</div>"
      ],
      "text/plain": [
       "    A   B   C\n",
       "a   0  44  68\n",
       "b  14   4   6"
      ]
     },
     "execution_count": 156,
     "metadata": {},
     "output_type": "execute_result"
    }
   ],
   "source": [
    "df.iloc[[0, 1]]"
   ]
  },
  {
   "cell_type": "code",
   "execution_count": 157,
   "metadata": {},
   "outputs": [
    {
     "data": {
      "text/plain": [
       "68"
      ]
     },
     "execution_count": 157,
     "metadata": {},
     "output_type": "execute_result"
    }
   ],
   "source": [
    "df.loc['a', 'C']"
   ]
  },
  {
   "cell_type": "code",
   "execution_count": 172,
   "metadata": {},
   "outputs": [
    {
     "data": {
      "text/html": [
       "<div>\n",
       "<style scoped>\n",
       "    .dataframe tbody tr th:only-of-type {\n",
       "        vertical-align: middle;\n",
       "    }\n",
       "\n",
       "    .dataframe tbody tr th {\n",
       "        vertical-align: top;\n",
       "    }\n",
       "\n",
       "    .dataframe thead th {\n",
       "        text-align: right;\n",
       "    }\n",
       "</style>\n",
       "<table border=\"1\" class=\"dataframe\">\n",
       "  <thead>\n",
       "    <tr style=\"text-align: right;\">\n",
       "      <th></th>\n",
       "      <th>A</th>\n",
       "      <th>B</th>\n",
       "    </tr>\n",
       "  </thead>\n",
       "  <tbody>\n",
       "    <tr>\n",
       "      <th>a</th>\n",
       "      <td>0</td>\n",
       "      <td>44</td>\n",
       "    </tr>\n",
       "    <tr>\n",
       "      <th>b</th>\n",
       "      <td>14</td>\n",
       "      <td>4</td>\n",
       "    </tr>\n",
       "    <tr>\n",
       "      <th>c</th>\n",
       "      <td>42</td>\n",
       "      <td>73</td>\n",
       "    </tr>\n",
       "  </tbody>\n",
       "</table>\n",
       "</div>"
      ],
      "text/plain": [
       "    A   B\n",
       "a   0  44\n",
       "b  14   4\n",
       "c  42  73"
      ]
     },
     "execution_count": 172,
     "metadata": {},
     "output_type": "execute_result"
    }
   ],
   "source": [
    "df[0:2]\n",
    "df.iloc[:,0:2]"
   ]
  },
  {
   "cell_type": "code",
   "execution_count": 173,
   "metadata": {},
   "outputs": [
    {
     "data": {
      "text/html": [
       "<div>\n",
       "<style scoped>\n",
       "    .dataframe tbody tr th:only-of-type {\n",
       "        vertical-align: middle;\n",
       "    }\n",
       "\n",
       "    .dataframe tbody tr th {\n",
       "        vertical-align: top;\n",
       "    }\n",
       "\n",
       "    .dataframe thead th {\n",
       "        text-align: right;\n",
       "    }\n",
       "</style>\n",
       "<table border=\"1\" class=\"dataframe\">\n",
       "  <thead>\n",
       "    <tr style=\"text-align: right;\">\n",
       "      <th></th>\n",
       "      <th>A</th>\n",
       "      <th>B</th>\n",
       "      <th>C</th>\n",
       "    </tr>\n",
       "  </thead>\n",
       "  <tbody>\n",
       "    <tr>\n",
       "      <th>a</th>\n",
       "      <td>0</td>\n",
       "      <td>88</td>\n",
       "      <td>136</td>\n",
       "    </tr>\n",
       "    <tr>\n",
       "      <th>b</th>\n",
       "      <td>28</td>\n",
       "      <td>8</td>\n",
       "      <td>12</td>\n",
       "    </tr>\n",
       "    <tr>\n",
       "      <th>c</th>\n",
       "      <td>84</td>\n",
       "      <td>146</td>\n",
       "      <td>88</td>\n",
       "    </tr>\n",
       "  </tbody>\n",
       "</table>\n",
       "</div>"
      ],
      "text/plain": [
       "    A    B    C\n",
       "a   0   88  136\n",
       "b  28    8   12\n",
       "c  84  146   88"
      ]
     },
     "execution_count": 173,
     "metadata": {},
     "output_type": "execute_result"
    }
   ],
   "source": [
    "df + df"
   ]
  },
  {
   "cell_type": "code",
   "execution_count": 174,
   "metadata": {},
   "outputs": [
    {
     "data": {
      "text/html": [
       "<div>\n",
       "<style scoped>\n",
       "    .dataframe tbody tr th:only-of-type {\n",
       "        vertical-align: middle;\n",
       "    }\n",
       "\n",
       "    .dataframe tbody tr th {\n",
       "        vertical-align: top;\n",
       "    }\n",
       "\n",
       "    .dataframe thead th {\n",
       "        text-align: right;\n",
       "    }\n",
       "</style>\n",
       "<table border=\"1\" class=\"dataframe\">\n",
       "  <thead>\n",
       "    <tr style=\"text-align: right;\">\n",
       "      <th></th>\n",
       "      <th>A</th>\n",
       "      <th>B</th>\n",
       "    </tr>\n",
       "  </thead>\n",
       "  <tbody>\n",
       "    <tr>\n",
       "      <th>a</th>\n",
       "      <td>0</td>\n",
       "      <td>44</td>\n",
       "    </tr>\n",
       "    <tr>\n",
       "      <th>b</th>\n",
       "      <td>14</td>\n",
       "      <td>4</td>\n",
       "    </tr>\n",
       "    <tr>\n",
       "      <th>c</th>\n",
       "      <td>42</td>\n",
       "      <td>73</td>\n",
       "    </tr>\n",
       "  </tbody>\n",
       "</table>\n",
       "</div>"
      ],
      "text/plain": [
       "    A   B\n",
       "a   0  44\n",
       "b  14   4\n",
       "c  42  73"
      ]
     },
     "execution_count": 174,
     "metadata": {},
     "output_type": "execute_result"
    }
   ],
   "source": [
    "df[['A', 'B']]"
   ]
  },
  {
   "cell_type": "code",
   "execution_count": 260,
   "metadata": {},
   "outputs": [],
   "source": [
    "import tushare as ts\n",
    "import pandas as pd"
   ]
  },
  {
   "cell_type": "code",
   "execution_count": 257,
   "metadata": {},
   "outputs": [],
   "source": [
    "df = ts.get_k_data(code='600519', start='2000')\n",
    "df.to_csv('./test.csv')"
   ]
  },
  {
   "cell_type": "code",
   "execution_count": 265,
   "metadata": {},
   "outputs": [],
   "source": [
    "df = pd.read_csv('./test.csv', index_col='date', parse_dates=True)\n",
    "df.head(5)\n",
    "df.drop(labels=['Unnamed: 0'], axis=1, inplace=True)"
   ]
  },
  {
   "cell_type": "code",
   "execution_count": 266,
   "metadata": {},
   "outputs": [
    {
     "data": {
      "text/plain": [
       "Timestamp('2001-08-27 00:00:00')"
      ]
     },
     "execution_count": 266,
     "metadata": {},
     "output_type": "execute_result"
    }
   ],
   "source": [
    "df.index[0]"
   ]
  },
  {
   "cell_type": "code",
   "execution_count": 267,
   "metadata": {},
   "outputs": [
    {
     "data": {
      "text/html": [
       "<div>\n",
       "<style scoped>\n",
       "    .dataframe tbody tr th:only-of-type {\n",
       "        vertical-align: middle;\n",
       "    }\n",
       "\n",
       "    .dataframe tbody tr th {\n",
       "        vertical-align: top;\n",
       "    }\n",
       "\n",
       "    .dataframe thead th {\n",
       "        text-align: right;\n",
       "    }\n",
       "</style>\n",
       "<table border=\"1\" class=\"dataframe\">\n",
       "  <thead>\n",
       "    <tr style=\"text-align: right;\">\n",
       "      <th></th>\n",
       "      <th>open</th>\n",
       "      <th>close</th>\n",
       "      <th>high</th>\n",
       "      <th>low</th>\n",
       "      <th>volume</th>\n",
       "      <th>code</th>\n",
       "    </tr>\n",
       "    <tr>\n",
       "      <th>date</th>\n",
       "      <th></th>\n",
       "      <th></th>\n",
       "      <th></th>\n",
       "      <th></th>\n",
       "      <th></th>\n",
       "      <th></th>\n",
       "    </tr>\n",
       "  </thead>\n",
       "  <tbody>\n",
       "    <tr>\n",
       "      <th>2001-08-27</th>\n",
       "      <td>5.392</td>\n",
       "      <td>5.554</td>\n",
       "      <td>5.902</td>\n",
       "      <td>5.132</td>\n",
       "      <td>406318.00</td>\n",
       "      <td>600519</td>\n",
       "    </tr>\n",
       "    <tr>\n",
       "      <th>2001-08-28</th>\n",
       "      <td>5.467</td>\n",
       "      <td>5.759</td>\n",
       "      <td>5.781</td>\n",
       "      <td>5.407</td>\n",
       "      <td>129647.79</td>\n",
       "      <td>600519</td>\n",
       "    </tr>\n",
       "    <tr>\n",
       "      <th>2001-08-29</th>\n",
       "      <td>5.777</td>\n",
       "      <td>5.684</td>\n",
       "      <td>5.781</td>\n",
       "      <td>5.640</td>\n",
       "      <td>53252.75</td>\n",
       "      <td>600519</td>\n",
       "    </tr>\n",
       "    <tr>\n",
       "      <th>2001-08-30</th>\n",
       "      <td>5.668</td>\n",
       "      <td>5.796</td>\n",
       "      <td>5.860</td>\n",
       "      <td>5.624</td>\n",
       "      <td>48013.06</td>\n",
       "      <td>600519</td>\n",
       "    </tr>\n",
       "  </tbody>\n",
       "</table>\n",
       "</div>"
      ],
      "text/plain": [
       "             open  close   high    low     volume    code\n",
       "date                                                     \n",
       "2001-08-27  5.392  5.554  5.902  5.132  406318.00  600519\n",
       "2001-08-28  5.467  5.759  5.781  5.407  129647.79  600519\n",
       "2001-08-29  5.777  5.684  5.781  5.640   53252.75  600519\n",
       "2001-08-30  5.668  5.796  5.860  5.624   48013.06  600519"
      ]
     },
     "execution_count": 267,
     "metadata": {},
     "output_type": "execute_result"
    }
   ],
   "source": [
    "df.head(4)"
   ]
  },
  {
   "cell_type": "code",
   "execution_count": 270,
   "metadata": {},
   "outputs": [
    {
     "data": {
      "text/plain": [
       "DatetimeIndex(['2001-10-10', '2001-11-07', '2001-11-16', '2001-12-20',\n",
       "               '2002-01-04', '2002-01-17', '2002-01-28', '2002-04-17',\n",
       "               '2002-11-08', '2003-01-02',\n",
       "               ...\n",
       "               '2018-02-07', '2018-04-27', '2018-06-19', '2018-06-27',\n",
       "               '2018-07-02', '2018-08-17', '2018-10-08', '2018-10-10',\n",
       "               '2018-10-23', '2019-07-03'],\n",
       "              dtype='datetime64[ns]', name='date', length=178, freq=None)"
      ]
     },
     "execution_count": 270,
     "metadata": {},
     "output_type": "execute_result"
    }
   ],
   "source": [
    "df[(df.open - df.close)/df.close > 0.03].index"
   ]
  },
  {
   "cell_type": "code",
   "execution_count": 274,
   "metadata": {
    "collapsed": true
   },
   "outputs": [
    {
     "data": {
      "text/plain": [
       "DatetimeIndex(['2001-09-12', '2002-06-26', '2002-12-13', '2004-07-01',\n",
       "               '2004-10-29', '2006-08-21', '2006-08-23', '2007-01-25',\n",
       "               '2007-02-01', '2007-02-06', '2007-03-19', '2007-05-21',\n",
       "               '2007-05-30', '2007-06-05', '2007-07-27', '2007-09-05',\n",
       "               '2007-09-10', '2008-03-13', '2008-03-17', '2008-03-25',\n",
       "               '2008-03-27', '2008-04-22', '2008-04-23', '2008-04-29',\n",
       "               '2008-05-13', '2008-06-10', '2008-06-13', '2008-06-24',\n",
       "               '2008-06-27', '2008-08-11', '2008-08-19', '2008-09-23',\n",
       "               '2008-10-10', '2008-10-15', '2008-10-16', '2008-10-20',\n",
       "               '2008-10-23', '2008-10-27', '2008-11-06', '2008-11-12',\n",
       "               '2008-11-20', '2008-11-21', '2008-12-02', '2009-02-27',\n",
       "               '2009-03-25', '2009-08-13', '2010-04-26', '2010-04-30',\n",
       "               '2011-08-05', '2012-03-27', '2012-08-10', '2012-11-22',\n",
       "               '2012-12-04', '2012-12-24', '2013-01-16', '2013-01-25',\n",
       "               '2013-09-02', '2014-04-25', '2015-01-19', '2015-05-25',\n",
       "               '2015-07-03', '2015-07-08', '2015-07-13', '2015-08-24',\n",
       "               '2015-09-02', '2015-09-15', '2017-11-17', '2018-02-06',\n",
       "               '2018-02-09', '2018-03-23', '2018-03-28', '2018-07-11',\n",
       "               '2018-10-11', '2018-10-24', '2018-10-25', '2018-10-29',\n",
       "               '2018-10-30', '2019-05-06', '2019-05-08'],\n",
       "              dtype='datetime64[ns]', name='date', freq=None)"
      ]
     },
     "execution_count": 274,
     "metadata": {},
     "output_type": "execute_result"
    }
   ],
   "source": [
    "df[(df.open - df.close.shift(1))/df.close.shift(1) < -0.02].index"
   ]
  },
  {
   "cell_type": "code",
   "execution_count": 290,
   "metadata": {
    "scrolled": true
   },
   "outputs": [
    {
     "data": {
      "text/html": [
       "<div>\n",
       "<style scoped>\n",
       "    .dataframe tbody tr th:only-of-type {\n",
       "        vertical-align: middle;\n",
       "    }\n",
       "\n",
       "    .dataframe tbody tr th {\n",
       "        vertical-align: top;\n",
       "    }\n",
       "\n",
       "    .dataframe thead th {\n",
       "        text-align: right;\n",
       "    }\n",
       "</style>\n",
       "<table border=\"1\" class=\"dataframe\">\n",
       "  <thead>\n",
       "    <tr style=\"text-align: right;\">\n",
       "      <th></th>\n",
       "      <th>open</th>\n",
       "      <th>close</th>\n",
       "      <th>high</th>\n",
       "      <th>low</th>\n",
       "      <th>volume</th>\n",
       "      <th>code</th>\n",
       "    </tr>\n",
       "    <tr>\n",
       "      <th>date</th>\n",
       "      <th></th>\n",
       "      <th></th>\n",
       "      <th></th>\n",
       "      <th></th>\n",
       "      <th></th>\n",
       "      <th></th>\n",
       "    </tr>\n",
       "  </thead>\n",
       "  <tbody>\n",
       "    <tr>\n",
       "      <th>2010-01-31</th>\n",
       "      <td>109.760</td>\n",
       "      <td>108.446</td>\n",
       "      <td>109.760</td>\n",
       "      <td>108.044</td>\n",
       "      <td>44304.88</td>\n",
       "      <td>600519</td>\n",
       "    </tr>\n",
       "    <tr>\n",
       "      <th>2010-02-28</th>\n",
       "      <td>107.769</td>\n",
       "      <td>107.776</td>\n",
       "      <td>108.216</td>\n",
       "      <td>106.576</td>\n",
       "      <td>29655.94</td>\n",
       "      <td>600519</td>\n",
       "    </tr>\n",
       "    <tr>\n",
       "      <th>2010-03-31</th>\n",
       "      <td>106.219</td>\n",
       "      <td>106.085</td>\n",
       "      <td>106.857</td>\n",
       "      <td>105.925</td>\n",
       "      <td>21734.74</td>\n",
       "      <td>600519</td>\n",
       "    </tr>\n",
       "    <tr>\n",
       "      <th>2010-04-30</th>\n",
       "      <td>101.324</td>\n",
       "      <td>102.141</td>\n",
       "      <td>102.422</td>\n",
       "      <td>101.311</td>\n",
       "      <td>23980.83</td>\n",
       "      <td>600519</td>\n",
       "    </tr>\n",
       "    <tr>\n",
       "      <th>2010-05-31</th>\n",
       "      <td>81.676</td>\n",
       "      <td>82.091</td>\n",
       "      <td>82.678</td>\n",
       "      <td>80.974</td>\n",
       "      <td>23975.16</td>\n",
       "      <td>600519</td>\n",
       "    </tr>\n",
       "    <tr>\n",
       "      <th>2010-06-30</th>\n",
       "      <td>84.075</td>\n",
       "      <td>84.637</td>\n",
       "      <td>85.166</td>\n",
       "      <td>83.278</td>\n",
       "      <td>23525.57</td>\n",
       "      <td>600519</td>\n",
       "    </tr>\n",
       "    <tr>\n",
       "      <th>2010-07-31</th>\n",
       "      <td>81.586</td>\n",
       "      <td>81.057</td>\n",
       "      <td>81.586</td>\n",
       "      <td>80.725</td>\n",
       "      <td>7449.69</td>\n",
       "      <td>600519</td>\n",
       "    </tr>\n",
       "    <tr>\n",
       "      <th>2010-08-31</th>\n",
       "      <td>89.296</td>\n",
       "      <td>92.465</td>\n",
       "      <td>93.567</td>\n",
       "      <td>89.296</td>\n",
       "      <td>42965.73</td>\n",
       "      <td>600519</td>\n",
       "    </tr>\n",
       "    <tr>\n",
       "      <th>2010-09-30</th>\n",
       "      <td>102.288</td>\n",
       "      <td>101.052</td>\n",
       "      <td>103.834</td>\n",
       "      <td>100.420</td>\n",
       "      <td>25589.00</td>\n",
       "      <td>600519</td>\n",
       "    </tr>\n",
       "    <tr>\n",
       "      <th>2010-10-31</th>\n",
       "      <td>108.858</td>\n",
       "      <td>111.776</td>\n",
       "      <td>113.045</td>\n",
       "      <td>108.858</td>\n",
       "      <td>31608.00</td>\n",
       "      <td>600519</td>\n",
       "    </tr>\n",
       "    <tr>\n",
       "      <th>2010-11-30</th>\n",
       "      <td>105.122</td>\n",
       "      <td>105.483</td>\n",
       "      <td>106.217</td>\n",
       "      <td>104.478</td>\n",
       "      <td>49658.00</td>\n",
       "      <td>600519</td>\n",
       "    </tr>\n",
       "    <tr>\n",
       "      <th>2010-12-31</th>\n",
       "      <td>130.759</td>\n",
       "      <td>130.372</td>\n",
       "      <td>133.980</td>\n",
       "      <td>128.839</td>\n",
       "      <td>38016.00</td>\n",
       "      <td>600519</td>\n",
       "    </tr>\n",
       "    <tr>\n",
       "      <th>2011-01-31</th>\n",
       "      <td>120.388</td>\n",
       "      <td>119.487</td>\n",
       "      <td>121.033</td>\n",
       "      <td>117.619</td>\n",
       "      <td>60462.00</td>\n",
       "      <td>600519</td>\n",
       "    </tr>\n",
       "    <tr>\n",
       "      <th>2011-02-28</th>\n",
       "      <td>114.656</td>\n",
       "      <td>116.124</td>\n",
       "      <td>117.136</td>\n",
       "      <td>114.334</td>\n",
       "      <td>17758.00</td>\n",
       "      <td>600519</td>\n",
       "    </tr>\n",
       "    <tr>\n",
       "      <th>2011-03-31</th>\n",
       "      <td>115.113</td>\n",
       "      <td>115.068</td>\n",
       "      <td>115.899</td>\n",
       "      <td>114.527</td>\n",
       "      <td>23059.00</td>\n",
       "      <td>600519</td>\n",
       "    </tr>\n",
       "    <tr>\n",
       "      <th>2011-04-30</th>\n",
       "      <td>115.931</td>\n",
       "      <td>115.596</td>\n",
       "      <td>116.813</td>\n",
       "      <td>115.010</td>\n",
       "      <td>18227.00</td>\n",
       "      <td>600519</td>\n",
       "    </tr>\n",
       "    <tr>\n",
       "      <th>2011-05-31</th>\n",
       "      <td>117.876</td>\n",
       "      <td>119.718</td>\n",
       "      <td>120.324</td>\n",
       "      <td>117.232</td>\n",
       "      <td>41270.00</td>\n",
       "      <td>600519</td>\n",
       "    </tr>\n",
       "    <tr>\n",
       "      <th>2011-06-30</th>\n",
       "      <td>131.467</td>\n",
       "      <td>135.197</td>\n",
       "      <td>135.255</td>\n",
       "      <td>130.772</td>\n",
       "      <td>39093.00</td>\n",
       "      <td>600519</td>\n",
       "    </tr>\n",
       "    <tr>\n",
       "      <th>2011-07-31</th>\n",
       "      <td>137.895</td>\n",
       "      <td>137.272</td>\n",
       "      <td>137.895</td>\n",
       "      <td>136.033</td>\n",
       "      <td>15810.00</td>\n",
       "      <td>600519</td>\n",
       "    </tr>\n",
       "    <tr>\n",
       "      <th>2011-08-31</th>\n",
       "      <td>148.519</td>\n",
       "      <td>145.689</td>\n",
       "      <td>148.519</td>\n",
       "      <td>145.274</td>\n",
       "      <td>18572.00</td>\n",
       "      <td>600519</td>\n",
       "    </tr>\n",
       "    <tr>\n",
       "      <th>2011-09-30</th>\n",
       "      <td>153.798</td>\n",
       "      <td>151.491</td>\n",
       "      <td>154.357</td>\n",
       "      <td>150.789</td>\n",
       "      <td>25689.00</td>\n",
       "      <td>600519</td>\n",
       "    </tr>\n",
       "    <tr>\n",
       "      <th>2011-10-31</th>\n",
       "      <td>136.735</td>\n",
       "      <td>134.672</td>\n",
       "      <td>137.394</td>\n",
       "      <td>134.407</td>\n",
       "      <td>14283.00</td>\n",
       "      <td>600519</td>\n",
       "    </tr>\n",
       "    <tr>\n",
       "      <th>2011-11-30</th>\n",
       "      <td>145.546</td>\n",
       "      <td>148.418</td>\n",
       "      <td>148.640</td>\n",
       "      <td>145.066</td>\n",
       "      <td>27147.00</td>\n",
       "      <td>600519</td>\n",
       "    </tr>\n",
       "    <tr>\n",
       "      <th>2011-12-31</th>\n",
       "      <td>152.724</td>\n",
       "      <td>152.466</td>\n",
       "      <td>154.149</td>\n",
       "      <td>150.625</td>\n",
       "      <td>33785.00</td>\n",
       "      <td>600519</td>\n",
       "    </tr>\n",
       "    <tr>\n",
       "      <th>2012-01-31</th>\n",
       "      <td>137.179</td>\n",
       "      <td>132.716</td>\n",
       "      <td>138.089</td>\n",
       "      <td>132.523</td>\n",
       "      <td>33878.00</td>\n",
       "      <td>600519</td>\n",
       "    </tr>\n",
       "    <tr>\n",
       "      <th>2012-02-29</th>\n",
       "      <td>133.382</td>\n",
       "      <td>133.347</td>\n",
       "      <td>135.044</td>\n",
       "      <td>132.437</td>\n",
       "      <td>24824.00</td>\n",
       "      <td>600519</td>\n",
       "    </tr>\n",
       "    <tr>\n",
       "      <th>2012-03-31</th>\n",
       "      <td>145.789</td>\n",
       "      <td>145.116</td>\n",
       "      <td>147.186</td>\n",
       "      <td>144.980</td>\n",
       "      <td>16920.00</td>\n",
       "      <td>600519</td>\n",
       "    </tr>\n",
       "    <tr>\n",
       "      <th>2012-04-30</th>\n",
       "      <td>140.474</td>\n",
       "      <td>147.566</td>\n",
       "      <td>147.852</td>\n",
       "      <td>140.474</td>\n",
       "      <td>40960.00</td>\n",
       "      <td>600519</td>\n",
       "    </tr>\n",
       "    <tr>\n",
       "      <th>2012-05-31</th>\n",
       "      <td>161.893</td>\n",
       "      <td>161.878</td>\n",
       "      <td>162.301</td>\n",
       "      <td>159.027</td>\n",
       "      <td>35339.00</td>\n",
       "      <td>600519</td>\n",
       "    </tr>\n",
       "    <tr>\n",
       "      <th>2012-06-30</th>\n",
       "      <td>170.489</td>\n",
       "      <td>172.187</td>\n",
       "      <td>174.071</td>\n",
       "      <td>169.565</td>\n",
       "      <td>38504.00</td>\n",
       "      <td>600519</td>\n",
       "    </tr>\n",
       "    <tr>\n",
       "      <th>...</th>\n",
       "      <td>...</td>\n",
       "      <td>...</td>\n",
       "      <td>...</td>\n",
       "      <td>...</td>\n",
       "      <td>...</td>\n",
       "      <td>...</td>\n",
       "    </tr>\n",
       "    <tr>\n",
       "      <th>2017-04-30</th>\n",
       "      <td>374.595</td>\n",
       "      <td>378.480</td>\n",
       "      <td>383.657</td>\n",
       "      <td>373.954</td>\n",
       "      <td>40789.00</td>\n",
       "      <td>600519</td>\n",
       "    </tr>\n",
       "    <tr>\n",
       "      <th>2017-05-31</th>\n",
       "      <td>399.791</td>\n",
       "      <td>400.257</td>\n",
       "      <td>403.093</td>\n",
       "      <td>397.440</td>\n",
       "      <td>23291.00</td>\n",
       "      <td>600519</td>\n",
       "    </tr>\n",
       "    <tr>\n",
       "      <th>2017-06-30</th>\n",
       "      <td>429.804</td>\n",
       "      <td>436.390</td>\n",
       "      <td>437.040</td>\n",
       "      <td>428.357</td>\n",
       "      <td>40604.00</td>\n",
       "      <td>600519</td>\n",
       "    </tr>\n",
       "    <tr>\n",
       "      <th>2017-07-31</th>\n",
       "      <td>460.595</td>\n",
       "      <td>447.161</td>\n",
       "      <td>460.595</td>\n",
       "      <td>444.762</td>\n",
       "      <td>49628.00</td>\n",
       "      <td>600519</td>\n",
       "    </tr>\n",
       "    <tr>\n",
       "      <th>2017-08-31</th>\n",
       "      <td>474.266</td>\n",
       "      <td>473.517</td>\n",
       "      <td>476.238</td>\n",
       "      <td>470.716</td>\n",
       "      <td>27501.00</td>\n",
       "      <td>600519</td>\n",
       "    </tr>\n",
       "    <tr>\n",
       "      <th>2017-09-30</th>\n",
       "      <td>483.337</td>\n",
       "      <td>488.248</td>\n",
       "      <td>489.332</td>\n",
       "      <td>483.170</td>\n",
       "      <td>31451.00</td>\n",
       "      <td>600519</td>\n",
       "    </tr>\n",
       "    <tr>\n",
       "      <th>2017-10-31</th>\n",
       "      <td>517.196</td>\n",
       "      <td>520.381</td>\n",
       "      <td>528.052</td>\n",
       "      <td>512.819</td>\n",
       "      <td>34891.00</td>\n",
       "      <td>600519</td>\n",
       "    </tr>\n",
       "    <tr>\n",
       "      <th>2017-11-30</th>\n",
       "      <td>612.188</td>\n",
       "      <td>614.288</td>\n",
       "      <td>622.698</td>\n",
       "      <td>610.551</td>\n",
       "      <td>43435.00</td>\n",
       "      <td>600519</td>\n",
       "    </tr>\n",
       "    <tr>\n",
       "      <th>2017-12-31</th>\n",
       "      <td>629.078</td>\n",
       "      <td>613.637</td>\n",
       "      <td>630.044</td>\n",
       "      <td>611.448</td>\n",
       "      <td>47192.00</td>\n",
       "      <td>600519</td>\n",
       "    </tr>\n",
       "    <tr>\n",
       "      <th>2018-01-31</th>\n",
       "      <td>690.200</td>\n",
       "      <td>693.996</td>\n",
       "      <td>700.218</td>\n",
       "      <td>680.232</td>\n",
       "      <td>49612.00</td>\n",
       "      <td>600519</td>\n",
       "    </tr>\n",
       "    <tr>\n",
       "      <th>2018-02-28</th>\n",
       "      <td>756.262</td>\n",
       "      <td>747.122</td>\n",
       "      <td>756.558</td>\n",
       "      <td>742.379</td>\n",
       "      <td>50582.00</td>\n",
       "      <td>600519</td>\n",
       "    </tr>\n",
       "    <tr>\n",
       "      <th>2018-03-31</th>\n",
       "      <td>717.808</td>\n",
       "      <td>731.582</td>\n",
       "      <td>736.394</td>\n",
       "      <td>713.637</td>\n",
       "      <td>44794.00</td>\n",
       "      <td>600519</td>\n",
       "    </tr>\n",
       "    <tr>\n",
       "      <th>2018-04-30</th>\n",
       "      <td>670.480</td>\n",
       "      <td>670.539</td>\n",
       "      <td>681.326</td>\n",
       "      <td>664.673</td>\n",
       "      <td>32039.00</td>\n",
       "      <td>600519</td>\n",
       "    </tr>\n",
       "    <tr>\n",
       "      <th>2018-05-31</th>\n",
       "      <td>650.760</td>\n",
       "      <td>658.480</td>\n",
       "      <td>659.624</td>\n",
       "      <td>636.029</td>\n",
       "      <td>70259.00</td>\n",
       "      <td>600519</td>\n",
       "    </tr>\n",
       "    <tr>\n",
       "      <th>2018-06-30</th>\n",
       "      <td>740.614</td>\n",
       "      <td>734.679</td>\n",
       "      <td>744.410</td>\n",
       "      <td>728.417</td>\n",
       "      <td>36177.00</td>\n",
       "      <td>600519</td>\n",
       "    </tr>\n",
       "    <tr>\n",
       "      <th>2018-07-31</th>\n",
       "      <td>734.520</td>\n",
       "      <td>711.550</td>\n",
       "      <td>739.330</td>\n",
       "      <td>703.000</td>\n",
       "      <td>37558.00</td>\n",
       "      <td>600519</td>\n",
       "    </tr>\n",
       "    <tr>\n",
       "      <th>2018-08-31</th>\n",
       "      <td>731.400</td>\n",
       "      <td>714.940</td>\n",
       "      <td>732.300</td>\n",
       "      <td>714.110</td>\n",
       "      <td>25237.00</td>\n",
       "      <td>600519</td>\n",
       "    </tr>\n",
       "    <tr>\n",
       "      <th>2018-09-30</th>\n",
       "      <td>652.000</td>\n",
       "      <td>666.210</td>\n",
       "      <td>667.670</td>\n",
       "      <td>650.800</td>\n",
       "      <td>30179.00</td>\n",
       "      <td>600519</td>\n",
       "    </tr>\n",
       "    <tr>\n",
       "      <th>2018-10-31</th>\n",
       "      <td>715.410</td>\n",
       "      <td>686.150</td>\n",
       "      <td>719.000</td>\n",
       "      <td>686.150</td>\n",
       "      <td>82745.00</td>\n",
       "      <td>600519</td>\n",
       "    </tr>\n",
       "    <tr>\n",
       "      <th>2018-11-30</th>\n",
       "      <td>555.000</td>\n",
       "      <td>563.000</td>\n",
       "      <td>585.500</td>\n",
       "      <td>551.250</td>\n",
       "      <td>98106.00</td>\n",
       "      <td>600519</td>\n",
       "    </tr>\n",
       "    <tr>\n",
       "      <th>2018-12-31</th>\n",
       "      <td>589.000</td>\n",
       "      <td>601.200</td>\n",
       "      <td>605.000</td>\n",
       "      <td>584.770</td>\n",
       "      <td>83414.00</td>\n",
       "      <td>600519</td>\n",
       "    </tr>\n",
       "    <tr>\n",
       "      <th>2019-01-31</th>\n",
       "      <td>609.980</td>\n",
       "      <td>598.980</td>\n",
       "      <td>612.000</td>\n",
       "      <td>595.010</td>\n",
       "      <td>62286.00</td>\n",
       "      <td>600519</td>\n",
       "    </tr>\n",
       "    <tr>\n",
       "      <th>2019-02-28</th>\n",
       "      <td>697.040</td>\n",
       "      <td>692.670</td>\n",
       "      <td>699.000</td>\n",
       "      <td>689.610</td>\n",
       "      <td>30520.00</td>\n",
       "      <td>600519</td>\n",
       "    </tr>\n",
       "    <tr>\n",
       "      <th>2019-03-31</th>\n",
       "      <td>761.500</td>\n",
       "      <td>789.300</td>\n",
       "      <td>790.000</td>\n",
       "      <td>761.000</td>\n",
       "      <td>63840.00</td>\n",
       "      <td>600519</td>\n",
       "    </tr>\n",
       "    <tr>\n",
       "      <th>2019-04-30</th>\n",
       "      <td>860.000</td>\n",
       "      <td>859.000</td>\n",
       "      <td>868.950</td>\n",
       "      <td>851.000</td>\n",
       "      <td>60934.00</td>\n",
       "      <td>600519</td>\n",
       "    </tr>\n",
       "    <tr>\n",
       "      <th>2019-05-31</th>\n",
       "      <td>925.500</td>\n",
       "      <td>906.000</td>\n",
       "      <td>935.000</td>\n",
       "      <td>893.000</td>\n",
       "      <td>135099.00</td>\n",
       "      <td>600519</td>\n",
       "    </tr>\n",
       "    <tr>\n",
       "      <th>2019-06-30</th>\n",
       "      <td>892.000</td>\n",
       "      <td>892.000</td>\n",
       "      <td>901.350</td>\n",
       "      <td>886.280</td>\n",
       "      <td>34479.00</td>\n",
       "      <td>600519</td>\n",
       "    </tr>\n",
       "    <tr>\n",
       "      <th>2019-07-31</th>\n",
       "      <td>1004.520</td>\n",
       "      <td>1031.860</td>\n",
       "      <td>1035.600</td>\n",
       "      <td>1000.220</td>\n",
       "      <td>52337.00</td>\n",
       "      <td>600519</td>\n",
       "    </tr>\n",
       "    <tr>\n",
       "      <th>2019-08-31</th>\n",
       "      <td>976.510</td>\n",
       "      <td>959.300</td>\n",
       "      <td>977.000</td>\n",
       "      <td>953.020</td>\n",
       "      <td>35089.00</td>\n",
       "      <td>600519</td>\n",
       "    </tr>\n",
       "    <tr>\n",
       "      <th>2019-09-30</th>\n",
       "      <td>1139.990</td>\n",
       "      <td>1138.760</td>\n",
       "      <td>1144.980</td>\n",
       "      <td>1129.000</td>\n",
       "      <td>28234.00</td>\n",
       "      <td>600519</td>\n",
       "    </tr>\n",
       "  </tbody>\n",
       "</table>\n",
       "<p>117 rows × 6 columns</p>\n",
       "</div>"
      ],
      "text/plain": [
       "                open     close      high       low     volume    code\n",
       "date                                                                 \n",
       "2010-01-31   109.760   108.446   109.760   108.044   44304.88  600519\n",
       "2010-02-28   107.769   107.776   108.216   106.576   29655.94  600519\n",
       "2010-03-31   106.219   106.085   106.857   105.925   21734.74  600519\n",
       "2010-04-30   101.324   102.141   102.422   101.311   23980.83  600519\n",
       "2010-05-31    81.676    82.091    82.678    80.974   23975.16  600519\n",
       "2010-06-30    84.075    84.637    85.166    83.278   23525.57  600519\n",
       "2010-07-31    81.586    81.057    81.586    80.725    7449.69  600519\n",
       "2010-08-31    89.296    92.465    93.567    89.296   42965.73  600519\n",
       "2010-09-30   102.288   101.052   103.834   100.420   25589.00  600519\n",
       "2010-10-31   108.858   111.776   113.045   108.858   31608.00  600519\n",
       "2010-11-30   105.122   105.483   106.217   104.478   49658.00  600519\n",
       "2010-12-31   130.759   130.372   133.980   128.839   38016.00  600519\n",
       "2011-01-31   120.388   119.487   121.033   117.619   60462.00  600519\n",
       "2011-02-28   114.656   116.124   117.136   114.334   17758.00  600519\n",
       "2011-03-31   115.113   115.068   115.899   114.527   23059.00  600519\n",
       "2011-04-30   115.931   115.596   116.813   115.010   18227.00  600519\n",
       "2011-05-31   117.876   119.718   120.324   117.232   41270.00  600519\n",
       "2011-06-30   131.467   135.197   135.255   130.772   39093.00  600519\n",
       "2011-07-31   137.895   137.272   137.895   136.033   15810.00  600519\n",
       "2011-08-31   148.519   145.689   148.519   145.274   18572.00  600519\n",
       "2011-09-30   153.798   151.491   154.357   150.789   25689.00  600519\n",
       "2011-10-31   136.735   134.672   137.394   134.407   14283.00  600519\n",
       "2011-11-30   145.546   148.418   148.640   145.066   27147.00  600519\n",
       "2011-12-31   152.724   152.466   154.149   150.625   33785.00  600519\n",
       "2012-01-31   137.179   132.716   138.089   132.523   33878.00  600519\n",
       "2012-02-29   133.382   133.347   135.044   132.437   24824.00  600519\n",
       "2012-03-31   145.789   145.116   147.186   144.980   16920.00  600519\n",
       "2012-04-30   140.474   147.566   147.852   140.474   40960.00  600519\n",
       "2012-05-31   161.893   161.878   162.301   159.027   35339.00  600519\n",
       "2012-06-30   170.489   172.187   174.071   169.565   38504.00  600519\n",
       "...              ...       ...       ...       ...        ...     ...\n",
       "2017-04-30   374.595   378.480   383.657   373.954   40789.00  600519\n",
       "2017-05-31   399.791   400.257   403.093   397.440   23291.00  600519\n",
       "2017-06-30   429.804   436.390   437.040   428.357   40604.00  600519\n",
       "2017-07-31   460.595   447.161   460.595   444.762   49628.00  600519\n",
       "2017-08-31   474.266   473.517   476.238   470.716   27501.00  600519\n",
       "2017-09-30   483.337   488.248   489.332   483.170   31451.00  600519\n",
       "2017-10-31   517.196   520.381   528.052   512.819   34891.00  600519\n",
       "2017-11-30   612.188   614.288   622.698   610.551   43435.00  600519\n",
       "2017-12-31   629.078   613.637   630.044   611.448   47192.00  600519\n",
       "2018-01-31   690.200   693.996   700.218   680.232   49612.00  600519\n",
       "2018-02-28   756.262   747.122   756.558   742.379   50582.00  600519\n",
       "2018-03-31   717.808   731.582   736.394   713.637   44794.00  600519\n",
       "2018-04-30   670.480   670.539   681.326   664.673   32039.00  600519\n",
       "2018-05-31   650.760   658.480   659.624   636.029   70259.00  600519\n",
       "2018-06-30   740.614   734.679   744.410   728.417   36177.00  600519\n",
       "2018-07-31   734.520   711.550   739.330   703.000   37558.00  600519\n",
       "2018-08-31   731.400   714.940   732.300   714.110   25237.00  600519\n",
       "2018-09-30   652.000   666.210   667.670   650.800   30179.00  600519\n",
       "2018-10-31   715.410   686.150   719.000   686.150   82745.00  600519\n",
       "2018-11-30   555.000   563.000   585.500   551.250   98106.00  600519\n",
       "2018-12-31   589.000   601.200   605.000   584.770   83414.00  600519\n",
       "2019-01-31   609.980   598.980   612.000   595.010   62286.00  600519\n",
       "2019-02-28   697.040   692.670   699.000   689.610   30520.00  600519\n",
       "2019-03-31   761.500   789.300   790.000   761.000   63840.00  600519\n",
       "2019-04-30   860.000   859.000   868.950   851.000   60934.00  600519\n",
       "2019-05-31   925.500   906.000   935.000   893.000  135099.00  600519\n",
       "2019-06-30   892.000   892.000   901.350   886.280   34479.00  600519\n",
       "2019-07-31  1004.520  1031.860  1035.600  1000.220   52337.00  600519\n",
       "2019-08-31   976.510   959.300   977.000   953.020   35089.00  600519\n",
       "2019-09-30  1139.990  1138.760  1144.980  1129.000   28234.00  600519\n",
       "\n",
       "[117 rows x 6 columns]"
      ]
     },
     "execution_count": 290,
     "metadata": {},
     "output_type": "execute_result"
    }
   ],
   "source": [
    "new_df = df['2010':'2019']\n",
    "df_monthly = new_df.resample('M').first()\n",
    "df_monthly"
   ]
  },
  {
   "cell_type": "code",
   "execution_count": 291,
   "metadata": {},
   "outputs": [
    {
     "data": {
      "text/html": [
       "<div>\n",
       "<style scoped>\n",
       "    .dataframe tbody tr th:only-of-type {\n",
       "        vertical-align: middle;\n",
       "    }\n",
       "\n",
       "    .dataframe tbody tr th {\n",
       "        vertical-align: top;\n",
       "    }\n",
       "\n",
       "    .dataframe thead th {\n",
       "        text-align: right;\n",
       "    }\n",
       "</style>\n",
       "<table border=\"1\" class=\"dataframe\">\n",
       "  <thead>\n",
       "    <tr style=\"text-align: right;\">\n",
       "      <th></th>\n",
       "      <th>open</th>\n",
       "      <th>close</th>\n",
       "      <th>high</th>\n",
       "      <th>low</th>\n",
       "      <th>volume</th>\n",
       "      <th>code</th>\n",
       "    </tr>\n",
       "    <tr>\n",
       "      <th>date</th>\n",
       "      <th></th>\n",
       "      <th></th>\n",
       "      <th></th>\n",
       "      <th></th>\n",
       "      <th></th>\n",
       "      <th></th>\n",
       "    </tr>\n",
       "  </thead>\n",
       "  <tbody>\n",
       "    <tr>\n",
       "      <th>2010-12-31</th>\n",
       "      <td>117.103</td>\n",
       "      <td>118.469</td>\n",
       "      <td>118.701</td>\n",
       "      <td>116.620</td>\n",
       "      <td>46084.0</td>\n",
       "      <td>600519</td>\n",
       "    </tr>\n",
       "    <tr>\n",
       "      <th>2011-12-31</th>\n",
       "      <td>138.039</td>\n",
       "      <td>138.468</td>\n",
       "      <td>139.600</td>\n",
       "      <td>136.105</td>\n",
       "      <td>29460.0</td>\n",
       "      <td>600519</td>\n",
       "    </tr>\n",
       "    <tr>\n",
       "      <th>2012-12-31</th>\n",
       "      <td>155.208</td>\n",
       "      <td>152.087</td>\n",
       "      <td>156.292</td>\n",
       "      <td>150.144</td>\n",
       "      <td>51914.0</td>\n",
       "      <td>600519</td>\n",
       "    </tr>\n",
       "    <tr>\n",
       "      <th>2013-12-31</th>\n",
       "      <td>93.188</td>\n",
       "      <td>96.480</td>\n",
       "      <td>97.179</td>\n",
       "      <td>92.061</td>\n",
       "      <td>57546.0</td>\n",
       "      <td>600519</td>\n",
       "    </tr>\n",
       "    <tr>\n",
       "      <th>2014-12-31</th>\n",
       "      <td>157.642</td>\n",
       "      <td>161.056</td>\n",
       "      <td>161.379</td>\n",
       "      <td>157.132</td>\n",
       "      <td>46269.0</td>\n",
       "      <td>600519</td>\n",
       "    </tr>\n",
       "    <tr>\n",
       "      <th>2015-12-31</th>\n",
       "      <td>207.487</td>\n",
       "      <td>207.458</td>\n",
       "      <td>208.704</td>\n",
       "      <td>207.106</td>\n",
       "      <td>19673.0</td>\n",
       "      <td>600519</td>\n",
       "    </tr>\n",
       "    <tr>\n",
       "      <th>2016-12-31</th>\n",
       "      <td>317.239</td>\n",
       "      <td>324.563</td>\n",
       "      <td>325.670</td>\n",
       "      <td>317.239</td>\n",
       "      <td>34687.0</td>\n",
       "      <td>600519</td>\n",
       "    </tr>\n",
       "    <tr>\n",
       "      <th>2017-12-31</th>\n",
       "      <td>707.948</td>\n",
       "      <td>687.725</td>\n",
       "      <td>716.329</td>\n",
       "      <td>681.918</td>\n",
       "      <td>76038.0</td>\n",
       "      <td>600519</td>\n",
       "    </tr>\n",
       "    <tr>\n",
       "      <th>2018-12-31</th>\n",
       "      <td>563.300</td>\n",
       "      <td>590.010</td>\n",
       "      <td>596.400</td>\n",
       "      <td>560.000</td>\n",
       "      <td>63678.0</td>\n",
       "      <td>600519</td>\n",
       "    </tr>\n",
       "  </tbody>\n",
       "</table>\n",
       "</div>"
      ],
      "text/plain": [
       "               open    close     high      low   volume    code\n",
       "date                                                           \n",
       "2010-12-31  117.103  118.469  118.701  116.620  46084.0  600519\n",
       "2011-12-31  138.039  138.468  139.600  136.105  29460.0  600519\n",
       "2012-12-31  155.208  152.087  156.292  150.144  51914.0  600519\n",
       "2013-12-31   93.188   96.480   97.179   92.061  57546.0  600519\n",
       "2014-12-31  157.642  161.056  161.379  157.132  46269.0  600519\n",
       "2015-12-31  207.487  207.458  208.704  207.106  19673.0  600519\n",
       "2016-12-31  317.239  324.563  325.670  317.239  34687.0  600519\n",
       "2017-12-31  707.948  687.725  716.329  681.918  76038.0  600519\n",
       "2018-12-31  563.300  590.010  596.400  560.000  63678.0  600519"
      ]
     },
     "execution_count": 291,
     "metadata": {},
     "output_type": "execute_result"
    }
   ],
   "source": [
    "df_yearly = new_df.resample('A').last()[:-1]\n",
    "df_yearly"
   ]
  },
  {
   "cell_type": "code",
   "execution_count": 292,
   "metadata": {},
   "outputs": [
    {
     "data": {
      "text/plain": [
       "3453686.0999999996"
      ]
     },
     "execution_count": 292,
     "metadata": {},
     "output_type": "execute_result"
    }
   ],
   "source": [
    "cost = df_monthly.open.sum() * 100\n",
    "cost"
   ]
  },
  {
   "cell_type": "code",
   "execution_count": 293,
   "metadata": {},
   "outputs": [
    {
     "data": {
      "text/plain": [
       "2948584.7999999993"
      ]
     },
     "execution_count": 293,
     "metadata": {},
     "output_type": "execute_result"
    }
   ],
   "source": [
    "recv = df_yearly.open.sum() * 1200\n",
    "recv"
   ]
  },
  {
   "cell_type": "code",
   "execution_count": 294,
   "metadata": {},
   "outputs": [
    {
     "data": {
      "text/plain": [
       "date\n",
       "2019-09-03    520898.7\n",
       "Name: open, dtype: float64"
      ]
     },
     "execution_count": 294,
     "metadata": {},
     "output_type": "execute_result"
    }
   ],
   "source": [
    "new_df.open[-1:]*900 + recv - cost"
   ]
  },
  {
   "cell_type": "code",
   "execution_count": 295,
   "metadata": {},
   "outputs": [
    {
     "data": {
      "text/html": [
       "<div>\n",
       "<style scoped>\n",
       "    .dataframe tbody tr th:only-of-type {\n",
       "        vertical-align: middle;\n",
       "    }\n",
       "\n",
       "    .dataframe tbody tr th {\n",
       "        vertical-align: top;\n",
       "    }\n",
       "\n",
       "    .dataframe thead th {\n",
       "        text-align: right;\n",
       "    }\n",
       "</style>\n",
       "<table border=\"1\" class=\"dataframe\">\n",
       "  <thead>\n",
       "    <tr style=\"text-align: right;\">\n",
       "      <th></th>\n",
       "      <th>open</th>\n",
       "      <th>close</th>\n",
       "      <th>high</th>\n",
       "      <th>low</th>\n",
       "      <th>volume</th>\n",
       "      <th>code</th>\n",
       "    </tr>\n",
       "    <tr>\n",
       "      <th>date</th>\n",
       "      <th></th>\n",
       "      <th></th>\n",
       "      <th></th>\n",
       "      <th></th>\n",
       "      <th></th>\n",
       "      <th></th>\n",
       "    </tr>\n",
       "  </thead>\n",
       "  <tbody>\n",
       "    <tr>\n",
       "      <th>2001-08-27</th>\n",
       "      <td>5.392</td>\n",
       "      <td>5.554</td>\n",
       "      <td>5.902</td>\n",
       "      <td>5.132</td>\n",
       "      <td>406318.00</td>\n",
       "      <td>600519</td>\n",
       "    </tr>\n",
       "    <tr>\n",
       "      <th>2001-08-28</th>\n",
       "      <td>5.467</td>\n",
       "      <td>5.759</td>\n",
       "      <td>5.781</td>\n",
       "      <td>5.407</td>\n",
       "      <td>129647.79</td>\n",
       "      <td>600519</td>\n",
       "    </tr>\n",
       "    <tr>\n",
       "      <th>2001-08-29</th>\n",
       "      <td>5.777</td>\n",
       "      <td>5.684</td>\n",
       "      <td>5.781</td>\n",
       "      <td>5.640</td>\n",
       "      <td>53252.75</td>\n",
       "      <td>600519</td>\n",
       "    </tr>\n",
       "    <tr>\n",
       "      <th>2001-08-30</th>\n",
       "      <td>5.668</td>\n",
       "      <td>5.796</td>\n",
       "      <td>5.860</td>\n",
       "      <td>5.624</td>\n",
       "      <td>48013.06</td>\n",
       "      <td>600519</td>\n",
       "    </tr>\n",
       "    <tr>\n",
       "      <th>2001-08-31</th>\n",
       "      <td>5.804</td>\n",
       "      <td>5.782</td>\n",
       "      <td>5.877</td>\n",
       "      <td>5.749</td>\n",
       "      <td>23231.48</td>\n",
       "      <td>600519</td>\n",
       "    </tr>\n",
       "    <tr>\n",
       "      <th>2001-09-03</th>\n",
       "      <td>5.812</td>\n",
       "      <td>5.779</td>\n",
       "      <td>5.870</td>\n",
       "      <td>5.757</td>\n",
       "      <td>22112.09</td>\n",
       "      <td>600519</td>\n",
       "    </tr>\n",
       "    <tr>\n",
       "      <th>2001-09-04</th>\n",
       "      <td>5.782</td>\n",
       "      <td>5.852</td>\n",
       "      <td>5.949</td>\n",
       "      <td>5.762</td>\n",
       "      <td>37006.77</td>\n",
       "      <td>600519</td>\n",
       "    </tr>\n",
       "    <tr>\n",
       "      <th>2001-09-05</th>\n",
       "      <td>5.876</td>\n",
       "      <td>5.849</td>\n",
       "      <td>5.924</td>\n",
       "      <td>5.813</td>\n",
       "      <td>26066.95</td>\n",
       "      <td>600519</td>\n",
       "    </tr>\n",
       "    <tr>\n",
       "      <th>2001-09-06</th>\n",
       "      <td>5.835</td>\n",
       "      <td>5.734</td>\n",
       "      <td>5.854</td>\n",
       "      <td>5.704</td>\n",
       "      <td>28997.03</td>\n",
       "      <td>600519</td>\n",
       "    </tr>\n",
       "    <tr>\n",
       "      <th>2001-09-07</th>\n",
       "      <td>5.702</td>\n",
       "      <td>5.574</td>\n",
       "      <td>5.773</td>\n",
       "      <td>5.570</td>\n",
       "      <td>31552.25</td>\n",
       "      <td>600519</td>\n",
       "    </tr>\n",
       "    <tr>\n",
       "      <th>2001-09-10</th>\n",
       "      <td>5.531</td>\n",
       "      <td>5.734</td>\n",
       "      <td>5.757</td>\n",
       "      <td>5.470</td>\n",
       "      <td>18878.89</td>\n",
       "      <td>600519</td>\n",
       "    </tr>\n",
       "    <tr>\n",
       "      <th>2001-09-11</th>\n",
       "      <td>5.749</td>\n",
       "      <td>5.670</td>\n",
       "      <td>5.773</td>\n",
       "      <td>5.656</td>\n",
       "      <td>11390.81</td>\n",
       "      <td>600519</td>\n",
       "    </tr>\n",
       "    <tr>\n",
       "      <th>2001-09-12</th>\n",
       "      <td>5.520</td>\n",
       "      <td>5.621</td>\n",
       "      <td>5.656</td>\n",
       "      <td>5.515</td>\n",
       "      <td>25045.19</td>\n",
       "      <td>600519</td>\n",
       "    </tr>\n",
       "    <tr>\n",
       "      <th>2001-09-13</th>\n",
       "      <td>5.626</td>\n",
       "      <td>5.607</td>\n",
       "      <td>5.671</td>\n",
       "      <td>5.577</td>\n",
       "      <td>10986.68</td>\n",
       "      <td>600519</td>\n",
       "    </tr>\n",
       "    <tr>\n",
       "      <th>2001-09-14</th>\n",
       "      <td>5.626</td>\n",
       "      <td>5.671</td>\n",
       "      <td>5.702</td>\n",
       "      <td>5.593</td>\n",
       "      <td>7672.83</td>\n",
       "      <td>600519</td>\n",
       "    </tr>\n",
       "    <tr>\n",
       "      <th>2001-09-17</th>\n",
       "      <td>5.637</td>\n",
       "      <td>5.599</td>\n",
       "      <td>5.670</td>\n",
       "      <td>5.546</td>\n",
       "      <td>8983.97</td>\n",
       "      <td>600519</td>\n",
       "    </tr>\n",
       "    <tr>\n",
       "      <th>2001-09-18</th>\n",
       "      <td>5.606</td>\n",
       "      <td>5.663</td>\n",
       "      <td>5.710</td>\n",
       "      <td>5.601</td>\n",
       "      <td>10773.26</td>\n",
       "      <td>600519</td>\n",
       "    </tr>\n",
       "    <tr>\n",
       "      <th>2001-09-19</th>\n",
       "      <td>5.671</td>\n",
       "      <td>5.768</td>\n",
       "      <td>5.768</td>\n",
       "      <td>5.634</td>\n",
       "      <td>8650.53</td>\n",
       "      <td>600519</td>\n",
       "    </tr>\n",
       "    <tr>\n",
       "      <th>2001-09-20</th>\n",
       "      <td>5.765</td>\n",
       "      <td>5.720</td>\n",
       "      <td>5.788</td>\n",
       "      <td>5.702</td>\n",
       "      <td>11173.35</td>\n",
       "      <td>600519</td>\n",
       "    </tr>\n",
       "    <tr>\n",
       "      <th>2001-09-21</th>\n",
       "      <td>5.668</td>\n",
       "      <td>5.634</td>\n",
       "      <td>5.718</td>\n",
       "      <td>5.624</td>\n",
       "      <td>7879.72</td>\n",
       "      <td>600519</td>\n",
       "    </tr>\n",
       "    <tr>\n",
       "      <th>2001-09-24</th>\n",
       "      <td>5.634</td>\n",
       "      <td>5.632</td>\n",
       "      <td>5.685</td>\n",
       "      <td>5.624</td>\n",
       "      <td>4068.60</td>\n",
       "      <td>600519</td>\n",
       "    </tr>\n",
       "    <tr>\n",
       "      <th>2001-09-25</th>\n",
       "      <td>5.668</td>\n",
       "      <td>5.660</td>\n",
       "      <td>5.709</td>\n",
       "      <td>5.632</td>\n",
       "      <td>3488.45</td>\n",
       "      <td>600519</td>\n",
       "    </tr>\n",
       "    <tr>\n",
       "      <th>2001-09-26</th>\n",
       "      <td>5.642</td>\n",
       "      <td>5.637</td>\n",
       "      <td>5.699</td>\n",
       "      <td>5.624</td>\n",
       "      <td>4956.26</td>\n",
       "      <td>600519</td>\n",
       "    </tr>\n",
       "    <tr>\n",
       "      <th>2001-09-27</th>\n",
       "      <td>5.637</td>\n",
       "      <td>5.734</td>\n",
       "      <td>5.777</td>\n",
       "      <td>5.624</td>\n",
       "      <td>8778.04</td>\n",
       "      <td>600519</td>\n",
       "    </tr>\n",
       "    <tr>\n",
       "      <th>2001-09-28</th>\n",
       "      <td>5.765</td>\n",
       "      <td>5.795</td>\n",
       "      <td>5.812</td>\n",
       "      <td>5.702</td>\n",
       "      <td>17088.47</td>\n",
       "      <td>600519</td>\n",
       "    </tr>\n",
       "    <tr>\n",
       "      <th>2001-10-08</th>\n",
       "      <td>5.781</td>\n",
       "      <td>5.715</td>\n",
       "      <td>5.809</td>\n",
       "      <td>5.663</td>\n",
       "      <td>6552.17</td>\n",
       "      <td>600519</td>\n",
       "    </tr>\n",
       "    <tr>\n",
       "      <th>2001-10-09</th>\n",
       "      <td>5.718</td>\n",
       "      <td>5.827</td>\n",
       "      <td>5.859</td>\n",
       "      <td>5.718</td>\n",
       "      <td>9558.52</td>\n",
       "      <td>600519</td>\n",
       "    </tr>\n",
       "    <tr>\n",
       "      <th>2001-10-10</th>\n",
       "      <td>5.827</td>\n",
       "      <td>5.640</td>\n",
       "      <td>5.848</td>\n",
       "      <td>5.629</td>\n",
       "      <td>17548.69</td>\n",
       "      <td>600519</td>\n",
       "    </tr>\n",
       "    <tr>\n",
       "      <th>2001-10-11</th>\n",
       "      <td>5.626</td>\n",
       "      <td>5.585</td>\n",
       "      <td>5.702</td>\n",
       "      <td>5.570</td>\n",
       "      <td>12306.84</td>\n",
       "      <td>600519</td>\n",
       "    </tr>\n",
       "    <tr>\n",
       "      <th>2001-10-12</th>\n",
       "      <td>5.609</td>\n",
       "      <td>5.624</td>\n",
       "      <td>5.726</td>\n",
       "      <td>5.320</td>\n",
       "      <td>20010.70</td>\n",
       "      <td>600519</td>\n",
       "    </tr>\n",
       "    <tr>\n",
       "      <th>...</th>\n",
       "      <td>...</td>\n",
       "      <td>...</td>\n",
       "      <td>...</td>\n",
       "      <td>...</td>\n",
       "      <td>...</td>\n",
       "      <td>...</td>\n",
       "    </tr>\n",
       "    <tr>\n",
       "      <th>2019-07-24</th>\n",
       "      <td>958.310</td>\n",
       "      <td>946.360</td>\n",
       "      <td>959.900</td>\n",
       "      <td>944.690</td>\n",
       "      <td>46771.00</td>\n",
       "      <td>600519</td>\n",
       "    </tr>\n",
       "    <tr>\n",
       "      <th>2019-07-25</th>\n",
       "      <td>945.970</td>\n",
       "      <td>963.000</td>\n",
       "      <td>963.360</td>\n",
       "      <td>938.150</td>\n",
       "      <td>38255.00</td>\n",
       "      <td>600519</td>\n",
       "    </tr>\n",
       "    <tr>\n",
       "      <th>2019-07-26</th>\n",
       "      <td>961.970</td>\n",
       "      <td>965.030</td>\n",
       "      <td>971.000</td>\n",
       "      <td>958.550</td>\n",
       "      <td>26467.00</td>\n",
       "      <td>600519</td>\n",
       "    </tr>\n",
       "    <tr>\n",
       "      <th>2019-07-29</th>\n",
       "      <td>962.030</td>\n",
       "      <td>976.410</td>\n",
       "      <td>979.500</td>\n",
       "      <td>960.010</td>\n",
       "      <td>26981.00</td>\n",
       "      <td>600519</td>\n",
       "    </tr>\n",
       "    <tr>\n",
       "      <th>2019-07-30</th>\n",
       "      <td>976.500</td>\n",
       "      <td>978.930</td>\n",
       "      <td>983.000</td>\n",
       "      <td>971.000</td>\n",
       "      <td>19537.00</td>\n",
       "      <td>600519</td>\n",
       "    </tr>\n",
       "    <tr>\n",
       "      <th>2019-07-31</th>\n",
       "      <td>975.000</td>\n",
       "      <td>972.600</td>\n",
       "      <td>981.770</td>\n",
       "      <td>966.590</td>\n",
       "      <td>22526.00</td>\n",
       "      <td>600519</td>\n",
       "    </tr>\n",
       "    <tr>\n",
       "      <th>2019-08-01</th>\n",
       "      <td>976.510</td>\n",
       "      <td>959.300</td>\n",
       "      <td>977.000</td>\n",
       "      <td>953.020</td>\n",
       "      <td>35089.00</td>\n",
       "      <td>600519</td>\n",
       "    </tr>\n",
       "    <tr>\n",
       "      <th>2019-08-02</th>\n",
       "      <td>944.000</td>\n",
       "      <td>954.450</td>\n",
       "      <td>957.980</td>\n",
       "      <td>943.000</td>\n",
       "      <td>39719.00</td>\n",
       "      <td>600519</td>\n",
       "    </tr>\n",
       "    <tr>\n",
       "      <th>2019-08-05</th>\n",
       "      <td>945.000</td>\n",
       "      <td>942.430</td>\n",
       "      <td>954.000</td>\n",
       "      <td>940.000</td>\n",
       "      <td>36774.00</td>\n",
       "      <td>600519</td>\n",
       "    </tr>\n",
       "    <tr>\n",
       "      <th>2019-08-06</th>\n",
       "      <td>931.000</td>\n",
       "      <td>946.300</td>\n",
       "      <td>948.000</td>\n",
       "      <td>923.800</td>\n",
       "      <td>43991.00</td>\n",
       "      <td>600519</td>\n",
       "    </tr>\n",
       "    <tr>\n",
       "      <th>2019-08-07</th>\n",
       "      <td>949.500</td>\n",
       "      <td>945.000</td>\n",
       "      <td>955.530</td>\n",
       "      <td>945.000</td>\n",
       "      <td>26869.00</td>\n",
       "      <td>600519</td>\n",
       "    </tr>\n",
       "    <tr>\n",
       "      <th>2019-08-08</th>\n",
       "      <td>953.500</td>\n",
       "      <td>971.680</td>\n",
       "      <td>974.000</td>\n",
       "      <td>952.000</td>\n",
       "      <td>38808.00</td>\n",
       "      <td>600519</td>\n",
       "    </tr>\n",
       "    <tr>\n",
       "      <th>2019-08-09</th>\n",
       "      <td>978.500</td>\n",
       "      <td>962.030</td>\n",
       "      <td>980.950</td>\n",
       "      <td>958.990</td>\n",
       "      <td>28461.00</td>\n",
       "      <td>600519</td>\n",
       "    </tr>\n",
       "    <tr>\n",
       "      <th>2019-08-12</th>\n",
       "      <td>1010.310</td>\n",
       "      <td>1018.630</td>\n",
       "      <td>1020.100</td>\n",
       "      <td>995.010</td>\n",
       "      <td>81498.00</td>\n",
       "      <td>600519</td>\n",
       "    </tr>\n",
       "    <tr>\n",
       "      <th>2019-08-13</th>\n",
       "      <td>1016.160</td>\n",
       "      <td>1017.950</td>\n",
       "      <td>1026.000</td>\n",
       "      <td>1010.680</td>\n",
       "      <td>30329.00</td>\n",
       "      <td>600519</td>\n",
       "    </tr>\n",
       "    <tr>\n",
       "      <th>2019-08-14</th>\n",
       "      <td>1030.020</td>\n",
       "      <td>1043.330</td>\n",
       "      <td>1051.900</td>\n",
       "      <td>1030.020</td>\n",
       "      <td>41410.00</td>\n",
       "      <td>600519</td>\n",
       "    </tr>\n",
       "    <tr>\n",
       "      <th>2019-08-15</th>\n",
       "      <td>1028.000</td>\n",
       "      <td>1044.900</td>\n",
       "      <td>1046.480</td>\n",
       "      <td>1028.000</td>\n",
       "      <td>27237.00</td>\n",
       "      <td>600519</td>\n",
       "    </tr>\n",
       "    <tr>\n",
       "      <th>2019-08-16</th>\n",
       "      <td>1049.840</td>\n",
       "      <td>1054.600</td>\n",
       "      <td>1075.580</td>\n",
       "      <td>1041.000</td>\n",
       "      <td>36086.00</td>\n",
       "      <td>600519</td>\n",
       "    </tr>\n",
       "    <tr>\n",
       "      <th>2019-08-19</th>\n",
       "      <td>1061.000</td>\n",
       "      <td>1055.880</td>\n",
       "      <td>1069.980</td>\n",
       "      <td>1049.050</td>\n",
       "      <td>32867.00</td>\n",
       "      <td>600519</td>\n",
       "    </tr>\n",
       "    <tr>\n",
       "      <th>2019-08-20</th>\n",
       "      <td>1055.000</td>\n",
       "      <td>1070.000</td>\n",
       "      <td>1073.680</td>\n",
       "      <td>1050.000</td>\n",
       "      <td>28602.00</td>\n",
       "      <td>600519</td>\n",
       "    </tr>\n",
       "    <tr>\n",
       "      <th>2019-08-21</th>\n",
       "      <td>1070.100</td>\n",
       "      <td>1066.000</td>\n",
       "      <td>1076.970</td>\n",
       "      <td>1061.660</td>\n",
       "      <td>25066.00</td>\n",
       "      <td>600519</td>\n",
       "    </tr>\n",
       "    <tr>\n",
       "      <th>2019-08-22</th>\n",
       "      <td>1072.990</td>\n",
       "      <td>1104.000</td>\n",
       "      <td>1104.000</td>\n",
       "      <td>1070.000</td>\n",
       "      <td>37590.00</td>\n",
       "      <td>600519</td>\n",
       "    </tr>\n",
       "    <tr>\n",
       "      <th>2019-08-23</th>\n",
       "      <td>1105.000</td>\n",
       "      <td>1130.100</td>\n",
       "      <td>1133.560</td>\n",
       "      <td>1095.620</td>\n",
       "      <td>40192.00</td>\n",
       "      <td>600519</td>\n",
       "    </tr>\n",
       "    <tr>\n",
       "      <th>2019-08-26</th>\n",
       "      <td>1113.000</td>\n",
       "      <td>1102.950</td>\n",
       "      <td>1128.000</td>\n",
       "      <td>1096.680</td>\n",
       "      <td>48497.00</td>\n",
       "      <td>600519</td>\n",
       "    </tr>\n",
       "    <tr>\n",
       "      <th>2019-08-27</th>\n",
       "      <td>1117.000</td>\n",
       "      <td>1109.000</td>\n",
       "      <td>1131.310</td>\n",
       "      <td>1109.000</td>\n",
       "      <td>52164.00</td>\n",
       "      <td>600519</td>\n",
       "    </tr>\n",
       "    <tr>\n",
       "      <th>2019-08-28</th>\n",
       "      <td>1109.000</td>\n",
       "      <td>1100.110</td>\n",
       "      <td>1123.190</td>\n",
       "      <td>1083.010</td>\n",
       "      <td>47009.00</td>\n",
       "      <td>600519</td>\n",
       "    </tr>\n",
       "    <tr>\n",
       "      <th>2019-08-29</th>\n",
       "      <td>1105.000</td>\n",
       "      <td>1113.100</td>\n",
       "      <td>1118.180</td>\n",
       "      <td>1092.500</td>\n",
       "      <td>29330.00</td>\n",
       "      <td>600519</td>\n",
       "    </tr>\n",
       "    <tr>\n",
       "      <th>2019-08-30</th>\n",
       "      <td>1125.000</td>\n",
       "      <td>1142.000</td>\n",
       "      <td>1146.000</td>\n",
       "      <td>1123.000</td>\n",
       "      <td>44890.00</td>\n",
       "      <td>600519</td>\n",
       "    </tr>\n",
       "    <tr>\n",
       "      <th>2019-09-02</th>\n",
       "      <td>1139.990</td>\n",
       "      <td>1138.760</td>\n",
       "      <td>1144.980</td>\n",
       "      <td>1129.000</td>\n",
       "      <td>28234.00</td>\n",
       "      <td>600519</td>\n",
       "    </tr>\n",
       "    <tr>\n",
       "      <th>2019-09-03</th>\n",
       "      <td>1140.000</td>\n",
       "      <td>1140.000</td>\n",
       "      <td>1151.020</td>\n",
       "      <td>1128.560</td>\n",
       "      <td>29485.00</td>\n",
       "      <td>600519</td>\n",
       "    </tr>\n",
       "  </tbody>\n",
       "</table>\n",
       "<p>4299 rows × 6 columns</p>\n",
       "</div>"
      ],
      "text/plain": [
       "                open     close      high       low     volume    code\n",
       "date                                                                 \n",
       "2001-08-27     5.392     5.554     5.902     5.132  406318.00  600519\n",
       "2001-08-28     5.467     5.759     5.781     5.407  129647.79  600519\n",
       "2001-08-29     5.777     5.684     5.781     5.640   53252.75  600519\n",
       "2001-08-30     5.668     5.796     5.860     5.624   48013.06  600519\n",
       "2001-08-31     5.804     5.782     5.877     5.749   23231.48  600519\n",
       "2001-09-03     5.812     5.779     5.870     5.757   22112.09  600519\n",
       "2001-09-04     5.782     5.852     5.949     5.762   37006.77  600519\n",
       "2001-09-05     5.876     5.849     5.924     5.813   26066.95  600519\n",
       "2001-09-06     5.835     5.734     5.854     5.704   28997.03  600519\n",
       "2001-09-07     5.702     5.574     5.773     5.570   31552.25  600519\n",
       "2001-09-10     5.531     5.734     5.757     5.470   18878.89  600519\n",
       "2001-09-11     5.749     5.670     5.773     5.656   11390.81  600519\n",
       "2001-09-12     5.520     5.621     5.656     5.515   25045.19  600519\n",
       "2001-09-13     5.626     5.607     5.671     5.577   10986.68  600519\n",
       "2001-09-14     5.626     5.671     5.702     5.593    7672.83  600519\n",
       "2001-09-17     5.637     5.599     5.670     5.546    8983.97  600519\n",
       "2001-09-18     5.606     5.663     5.710     5.601   10773.26  600519\n",
       "2001-09-19     5.671     5.768     5.768     5.634    8650.53  600519\n",
       "2001-09-20     5.765     5.720     5.788     5.702   11173.35  600519\n",
       "2001-09-21     5.668     5.634     5.718     5.624    7879.72  600519\n",
       "2001-09-24     5.634     5.632     5.685     5.624    4068.60  600519\n",
       "2001-09-25     5.668     5.660     5.709     5.632    3488.45  600519\n",
       "2001-09-26     5.642     5.637     5.699     5.624    4956.26  600519\n",
       "2001-09-27     5.637     5.734     5.777     5.624    8778.04  600519\n",
       "2001-09-28     5.765     5.795     5.812     5.702   17088.47  600519\n",
       "2001-10-08     5.781     5.715     5.809     5.663    6552.17  600519\n",
       "2001-10-09     5.718     5.827     5.859     5.718    9558.52  600519\n",
       "2001-10-10     5.827     5.640     5.848     5.629   17548.69  600519\n",
       "2001-10-11     5.626     5.585     5.702     5.570   12306.84  600519\n",
       "2001-10-12     5.609     5.624     5.726     5.320   20010.70  600519\n",
       "...              ...       ...       ...       ...        ...     ...\n",
       "2019-07-24   958.310   946.360   959.900   944.690   46771.00  600519\n",
       "2019-07-25   945.970   963.000   963.360   938.150   38255.00  600519\n",
       "2019-07-26   961.970   965.030   971.000   958.550   26467.00  600519\n",
       "2019-07-29   962.030   976.410   979.500   960.010   26981.00  600519\n",
       "2019-07-30   976.500   978.930   983.000   971.000   19537.00  600519\n",
       "2019-07-31   975.000   972.600   981.770   966.590   22526.00  600519\n",
       "2019-08-01   976.510   959.300   977.000   953.020   35089.00  600519\n",
       "2019-08-02   944.000   954.450   957.980   943.000   39719.00  600519\n",
       "2019-08-05   945.000   942.430   954.000   940.000   36774.00  600519\n",
       "2019-08-06   931.000   946.300   948.000   923.800   43991.00  600519\n",
       "2019-08-07   949.500   945.000   955.530   945.000   26869.00  600519\n",
       "2019-08-08   953.500   971.680   974.000   952.000   38808.00  600519\n",
       "2019-08-09   978.500   962.030   980.950   958.990   28461.00  600519\n",
       "2019-08-12  1010.310  1018.630  1020.100   995.010   81498.00  600519\n",
       "2019-08-13  1016.160  1017.950  1026.000  1010.680   30329.00  600519\n",
       "2019-08-14  1030.020  1043.330  1051.900  1030.020   41410.00  600519\n",
       "2019-08-15  1028.000  1044.900  1046.480  1028.000   27237.00  600519\n",
       "2019-08-16  1049.840  1054.600  1075.580  1041.000   36086.00  600519\n",
       "2019-08-19  1061.000  1055.880  1069.980  1049.050   32867.00  600519\n",
       "2019-08-20  1055.000  1070.000  1073.680  1050.000   28602.00  600519\n",
       "2019-08-21  1070.100  1066.000  1076.970  1061.660   25066.00  600519\n",
       "2019-08-22  1072.990  1104.000  1104.000  1070.000   37590.00  600519\n",
       "2019-08-23  1105.000  1130.100  1133.560  1095.620   40192.00  600519\n",
       "2019-08-26  1113.000  1102.950  1128.000  1096.680   48497.00  600519\n",
       "2019-08-27  1117.000  1109.000  1131.310  1109.000   52164.00  600519\n",
       "2019-08-28  1109.000  1100.110  1123.190  1083.010   47009.00  600519\n",
       "2019-08-29  1105.000  1113.100  1118.180  1092.500   29330.00  600519\n",
       "2019-08-30  1125.000  1142.000  1146.000  1123.000   44890.00  600519\n",
       "2019-09-02  1139.990  1138.760  1144.980  1129.000   28234.00  600519\n",
       "2019-09-03  1140.000  1140.000  1151.020  1128.560   29485.00  600519\n",
       "\n",
       "[4299 rows x 6 columns]"
      ]
     },
     "execution_count": 295,
     "metadata": {},
     "output_type": "execute_result"
    }
   ],
   "source": [
    "df"
   ]
  },
  {
   "cell_type": "code",
   "execution_count": null,
   "metadata": {},
   "outputs": [],
   "source": []
  }
 ],
 "metadata": {
  "kernelspec": {
   "display_name": "Python 3",
   "language": "python",
   "name": "python3"
  },
  "language_info": {
   "codemirror_mode": {
    "name": "ipython",
    "version": 3
   },
   "file_extension": ".py",
   "mimetype": "text/x-python",
   "name": "python",
   "nbconvert_exporter": "python",
   "pygments_lexer": "ipython3",
   "version": "3.7.3"
  }
 },
 "nbformat": 4,
 "nbformat_minor": 2
}
